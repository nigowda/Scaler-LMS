{
 "cells": [
  {
   "cell_type": "code",
   "execution_count": 1,
   "id": "fc5006df",
   "metadata": {},
   "outputs": [],
   "source": [
    "import numpy as np\n",
    "import pandas as pd\n",
    "import seaborn as sns\n",
    "import matplotlib.pyplot as plt"
   ]
  },
  {
   "cell_type": "code",
   "execution_count": 2,
   "id": "eda8dcef",
   "metadata": {},
   "outputs": [],
   "source": [
    "sehwag = pd.read_csv(\"sehwag.csv\")\n",
    "dravid = pd.read_csv(\"dravid.csv\")"
   ]
  },
  {
   "cell_type": "code",
   "execution_count": 3,
   "id": "397f9099",
   "metadata": {},
   "outputs": [
    {
     "data": {
      "text/plain": [
       "(245, 14)"
      ]
     },
     "execution_count": 3,
     "metadata": {},
     "output_type": "execute_result"
    }
   ],
   "source": [
    "sehwag.shape"
   ]
  },
  {
   "cell_type": "code",
   "execution_count": 4,
   "id": "00d1ad3b",
   "metadata": {},
   "outputs": [
    {
     "data": {
      "text/plain": [
       "(318, 14)"
      ]
     },
     "execution_count": 4,
     "metadata": {},
     "output_type": "execute_result"
    }
   ],
   "source": [
    "dravid.shape"
   ]
  },
  {
   "cell_type": "code",
   "execution_count": 6,
   "id": "a11794c3",
   "metadata": {},
   "outputs": [
    {
     "data": {
      "text/html": [
       "<div>\n",
       "<style scoped>\n",
       "    .dataframe tbody tr th:only-of-type {\n",
       "        vertical-align: middle;\n",
       "    }\n",
       "\n",
       "    .dataframe tbody tr th {\n",
       "        vertical-align: top;\n",
       "    }\n",
       "\n",
       "    .dataframe thead th {\n",
       "        text-align: right;\n",
       "    }\n",
       "</style>\n",
       "<table border=\"1\" class=\"dataframe\">\n",
       "  <thead>\n",
       "    <tr style=\"text-align: right;\">\n",
       "      <th></th>\n",
       "      <th>Runs</th>\n",
       "      <th>Mins</th>\n",
       "      <th>BF</th>\n",
       "      <th>4s</th>\n",
       "      <th>6s</th>\n",
       "      <th>SR</th>\n",
       "      <th>Pos</th>\n",
       "      <th>Dismissal</th>\n",
       "      <th>Inns</th>\n",
       "      <th>Unnamed: 9</th>\n",
       "      <th>Opposition</th>\n",
       "      <th>Ground</th>\n",
       "      <th>Start Date</th>\n",
       "      <th>Unnamed: 13</th>\n",
       "    </tr>\n",
       "  </thead>\n",
       "  <tbody>\n",
       "    <tr>\n",
       "      <th>0</th>\n",
       "      <td>1</td>\n",
       "      <td>5</td>\n",
       "      <td>2</td>\n",
       "      <td>0</td>\n",
       "      <td>0</td>\n",
       "      <td>50.00</td>\n",
       "      <td>7</td>\n",
       "      <td>lbw</td>\n",
       "      <td>1</td>\n",
       "      <td>NaN</td>\n",
       "      <td>v Pakistan</td>\n",
       "      <td>Mohali</td>\n",
       "      <td>1 Apr 1999</td>\n",
       "      <td>ODI # 1427</td>\n",
       "    </tr>\n",
       "    <tr>\n",
       "      <th>1</th>\n",
       "      <td>19</td>\n",
       "      <td>18</td>\n",
       "      <td>24</td>\n",
       "      <td>0</td>\n",
       "      <td>1</td>\n",
       "      <td>79.16</td>\n",
       "      <td>6</td>\n",
       "      <td>caught</td>\n",
       "      <td>1</td>\n",
       "      <td>NaN</td>\n",
       "      <td>v Zimbabwe</td>\n",
       "      <td>Rajkot</td>\n",
       "      <td>14 Dec 2000</td>\n",
       "      <td>ODI # 1660</td>\n",
       "    </tr>\n",
       "    <tr>\n",
       "      <th>2</th>\n",
       "      <td>58</td>\n",
       "      <td>62</td>\n",
       "      <td>54</td>\n",
       "      <td>8</td>\n",
       "      <td>0</td>\n",
       "      <td>107.40</td>\n",
       "      <td>6</td>\n",
       "      <td>bowled</td>\n",
       "      <td>1</td>\n",
       "      <td>NaN</td>\n",
       "      <td>v Australia</td>\n",
       "      <td>Bengaluru</td>\n",
       "      <td>25 Mar 2001</td>\n",
       "      <td>ODI # 1696</td>\n",
       "    </tr>\n",
       "    <tr>\n",
       "      <th>3</th>\n",
       "      <td>2</td>\n",
       "      <td>7</td>\n",
       "      <td>7</td>\n",
       "      <td>0</td>\n",
       "      <td>0</td>\n",
       "      <td>28.57</td>\n",
       "      <td>6</td>\n",
       "      <td>caught</td>\n",
       "      <td>2</td>\n",
       "      <td>NaN</td>\n",
       "      <td>v Zimbabwe</td>\n",
       "      <td>Bulawayo</td>\n",
       "      <td>27 Jun 2001</td>\n",
       "      <td>ODI # 1730</td>\n",
       "    </tr>\n",
       "    <tr>\n",
       "      <th>4</th>\n",
       "      <td>11</td>\n",
       "      <td>19</td>\n",
       "      <td>16</td>\n",
       "      <td>1</td>\n",
       "      <td>0</td>\n",
       "      <td>68.75</td>\n",
       "      <td>6</td>\n",
       "      <td>not out</td>\n",
       "      <td>2</td>\n",
       "      <td>NaN</td>\n",
       "      <td>v West Indies</td>\n",
       "      <td>Bulawayo</td>\n",
       "      <td>30 Jun 2001</td>\n",
       "      <td>ODI # 1731</td>\n",
       "    </tr>\n",
       "    <tr>\n",
       "      <th>...</th>\n",
       "      <td>...</td>\n",
       "      <td>...</td>\n",
       "      <td>...</td>\n",
       "      <td>...</td>\n",
       "      <td>...</td>\n",
       "      <td>...</td>\n",
       "      <td>...</td>\n",
       "      <td>...</td>\n",
       "      <td>...</td>\n",
       "      <td>...</td>\n",
       "      <td>...</td>\n",
       "      <td>...</td>\n",
       "      <td>...</td>\n",
       "      <td>...</td>\n",
       "    </tr>\n",
       "    <tr>\n",
       "      <th>240</th>\n",
       "      <td>15</td>\n",
       "      <td>21</td>\n",
       "      <td>15</td>\n",
       "      <td>2</td>\n",
       "      <td>0</td>\n",
       "      <td>100.00</td>\n",
       "      <td>2</td>\n",
       "      <td>caught</td>\n",
       "      <td>1</td>\n",
       "      <td>NaN</td>\n",
       "      <td>v Sri Lanka</td>\n",
       "      <td>Hambantota</td>\n",
       "      <td>24 Jul 2012</td>\n",
       "      <td>ODI # 3292</td>\n",
       "    </tr>\n",
       "    <tr>\n",
       "      <th>241</th>\n",
       "      <td>3</td>\n",
       "      <td>6</td>\n",
       "      <td>6</td>\n",
       "      <td>0</td>\n",
       "      <td>0</td>\n",
       "      <td>50.00</td>\n",
       "      <td>2</td>\n",
       "      <td>caught</td>\n",
       "      <td>2</td>\n",
       "      <td>NaN</td>\n",
       "      <td>v Sri Lanka</td>\n",
       "      <td>Colombo (RPS)</td>\n",
       "      <td>28 Jul 2012</td>\n",
       "      <td>ODI # 3293</td>\n",
       "    </tr>\n",
       "    <tr>\n",
       "      <th>242</th>\n",
       "      <td>34</td>\n",
       "      <td>46</td>\n",
       "      <td>29</td>\n",
       "      <td>6</td>\n",
       "      <td>0</td>\n",
       "      <td>117.24</td>\n",
       "      <td>2</td>\n",
       "      <td>caught</td>\n",
       "      <td>2</td>\n",
       "      <td>NaN</td>\n",
       "      <td>v Sri Lanka</td>\n",
       "      <td>Colombo (RPS)</td>\n",
       "      <td>31 Jul 2012</td>\n",
       "      <td>ODI # 3294</td>\n",
       "    </tr>\n",
       "    <tr>\n",
       "      <th>243</th>\n",
       "      <td>4</td>\n",
       "      <td>20</td>\n",
       "      <td>11</td>\n",
       "      <td>1</td>\n",
       "      <td>0</td>\n",
       "      <td>36.36</td>\n",
       "      <td>2</td>\n",
       "      <td>bowled</td>\n",
       "      <td>1</td>\n",
       "      <td>NaN</td>\n",
       "      <td>v Pakistan</td>\n",
       "      <td>Chennai</td>\n",
       "      <td>30 Dec 2012</td>\n",
       "      <td>ODI # 3314</td>\n",
       "    </tr>\n",
       "    <tr>\n",
       "      <th>244</th>\n",
       "      <td>31</td>\n",
       "      <td>70</td>\n",
       "      <td>43</td>\n",
       "      <td>3</td>\n",
       "      <td>0</td>\n",
       "      <td>72.09</td>\n",
       "      <td>2</td>\n",
       "      <td>lbw</td>\n",
       "      <td>2</td>\n",
       "      <td>NaN</td>\n",
       "      <td>v Pakistan</td>\n",
       "      <td>Kolkata</td>\n",
       "      <td>3 Jan 2013</td>\n",
       "      <td>ODI # 3315</td>\n",
       "    </tr>\n",
       "  </tbody>\n",
       "</table>\n",
       "<p>245 rows × 14 columns</p>\n",
       "</div>"
      ],
      "text/plain": [
       "     Runs Mins  BF  4s  6s      SR  Pos Dismissal  Inns  Unnamed: 9  \\\n",
       "0       1    5   2   0   0   50.00    7       lbw     1         NaN   \n",
       "1      19   18  24   0   1   79.16    6    caught     1         NaN   \n",
       "2      58   62  54   8   0  107.40    6    bowled     1         NaN   \n",
       "3       2    7   7   0   0   28.57    6    caught     2         NaN   \n",
       "4      11   19  16   1   0   68.75    6   not out     2         NaN   \n",
       "..    ...  ...  ..  ..  ..     ...  ...       ...   ...         ...   \n",
       "240    15   21  15   2   0  100.00    2    caught     1         NaN   \n",
       "241     3    6   6   0   0   50.00    2    caught     2         NaN   \n",
       "242    34   46  29   6   0  117.24    2    caught     2         NaN   \n",
       "243     4   20  11   1   0   36.36    2    bowled     1         NaN   \n",
       "244    31   70  43   3   0   72.09    2       lbw     2         NaN   \n",
       "\n",
       "        Opposition         Ground   Start Date Unnamed: 13  \n",
       "0       v Pakistan         Mohali   1 Apr 1999  ODI # 1427  \n",
       "1       v Zimbabwe         Rajkot  14 Dec 2000  ODI # 1660  \n",
       "2      v Australia      Bengaluru  25 Mar 2001  ODI # 1696  \n",
       "3       v Zimbabwe       Bulawayo  27 Jun 2001  ODI # 1730  \n",
       "4    v West Indies       Bulawayo  30 Jun 2001  ODI # 1731  \n",
       "..             ...            ...          ...         ...  \n",
       "240    v Sri Lanka     Hambantota  24 Jul 2012  ODI # 3292  \n",
       "241    v Sri Lanka  Colombo (RPS)  28 Jul 2012  ODI # 3293  \n",
       "242    v Sri Lanka  Colombo (RPS)  31 Jul 2012  ODI # 3294  \n",
       "243     v Pakistan        Chennai  30 Dec 2012  ODI # 3314  \n",
       "244     v Pakistan        Kolkata   3 Jan 2013  ODI # 3315  \n",
       "\n",
       "[245 rows x 14 columns]"
      ]
     },
     "execution_count": 6,
     "metadata": {},
     "output_type": "execute_result"
    }
   ],
   "source": [
    "sehwag"
   ]
  },
  {
   "cell_type": "code",
   "execution_count": 7,
   "id": "6af48caa",
   "metadata": {},
   "outputs": [
    {
     "data": {
      "text/plain": [
       "count    245.000000\n",
       "mean      33.767347\n",
       "std       34.809419\n",
       "min        0.000000\n",
       "25%        8.000000\n",
       "50%       23.000000\n",
       "75%       46.000000\n",
       "max      219.000000\n",
       "Name: Runs, dtype: float64"
      ]
     },
     "execution_count": 7,
     "metadata": {},
     "output_type": "execute_result"
    }
   ],
   "source": [
    "sehwag[\"Runs\"].describe()"
   ]
  },
  {
   "cell_type": "code",
   "execution_count": 9,
   "id": "f0314b29",
   "metadata": {},
   "outputs": [
    {
     "data": {
      "text/plain": [
       "8.0"
      ]
     },
     "execution_count": 9,
     "metadata": {},
     "output_type": "execute_result"
    }
   ],
   "source": [
    "s_25=np.percentile(sehwag[\"Runs\"],25) # percentile of Q1\n",
    "s_25"
   ]
  },
  {
   "cell_type": "code",
   "execution_count": 10,
   "id": "df439477",
   "metadata": {},
   "outputs": [
    {
     "data": {
      "text/plain": [
       "23.0"
      ]
     },
     "execution_count": 10,
     "metadata": {},
     "output_type": "execute_result"
    }
   ],
   "source": [
    "s_50=np.percentile(sehwag[\"Runs\"],50) # percentile of Q2\n",
    "s_50"
   ]
  },
  {
   "cell_type": "code",
   "execution_count": 11,
   "id": "cf2dcba1",
   "metadata": {},
   "outputs": [
    {
     "data": {
      "text/plain": [
       "46.0"
      ]
     },
     "execution_count": 11,
     "metadata": {},
     "output_type": "execute_result"
    }
   ],
   "source": [
    "s_75=np.percentile(sehwag[\"Runs\"],75) # percentile of Q3\n",
    "s_75"
   ]
  },
  {
   "cell_type": "code",
   "execution_count": 12,
   "id": "8100d754",
   "metadata": {},
   "outputs": [
    {
     "data": {
      "text/plain": [
       "8.0"
      ]
     },
     "execution_count": 12,
     "metadata": {},
     "output_type": "execute_result"
    }
   ],
   "source": [
    "np.percentile(sehwag[\"Runs\"],25)"
   ]
  },
  {
   "cell_type": "code",
   "execution_count": 13,
   "id": "48deb530",
   "metadata": {},
   "outputs": [
    {
     "data": {
      "text/plain": [
       "8.0"
      ]
     },
     "execution_count": 13,
     "metadata": {},
     "output_type": "execute_result"
    }
   ],
   "source": [
    "sehwag[\"Runs\"].quantile(.25)"
   ]
  },
  {
   "cell_type": "code",
   "execution_count": 14,
   "id": "8e8c4742",
   "metadata": {},
   "outputs": [
    {
     "data": {
      "text/plain": [
       "23.0"
      ]
     },
     "execution_count": 14,
     "metadata": {},
     "output_type": "execute_result"
    }
   ],
   "source": [
    "sehwag[\"Runs\"].quantile(.5)"
   ]
  },
  {
   "cell_type": "code",
   "execution_count": 15,
   "id": "e6631213",
   "metadata": {},
   "outputs": [
    {
     "data": {
      "text/plain": [
       "46.0"
      ]
     },
     "execution_count": 15,
     "metadata": {},
     "output_type": "execute_result"
    }
   ],
   "source": [
    "sehwag[\"Runs\"].quantile(.75)"
   ]
  },
  {
   "cell_type": "code",
   "execution_count": 17,
   "id": "b1a975b2",
   "metadata": {},
   "outputs": [
    {
     "data": {
      "text/plain": [
       "219"
      ]
     },
     "execution_count": 17,
     "metadata": {},
     "output_type": "execute_result"
    }
   ],
   "source": [
    "s_range= sehwag[\"Runs\"].max()-sehwag[\"Runs\"].min()\n",
    "s_range"
   ]
  },
  {
   "cell_type": "code",
   "execution_count": 18,
   "id": "f82d4069",
   "metadata": {},
   "outputs": [
    {
     "data": {
      "text/plain": [
       "38.0"
      ]
     },
     "execution_count": 18,
     "metadata": {},
     "output_type": "execute_result"
    }
   ],
   "source": [
    "s_iqr=s_75-s_25\n",
    "s_iqr\n"
   ]
  },
  {
   "cell_type": "code",
   "execution_count": 20,
   "id": "b8e4704d",
   "metadata": {},
   "outputs": [
    {
     "data": {
      "text/plain": [
       "0"
      ]
     },
     "execution_count": 20,
     "metadata": {},
     "output_type": "execute_result"
    }
   ],
   "source": [
    "s_lower_whisker= max(s_25-(1.5*s_iqr),sehwag[\"Runs\"].min())\n",
    "s_lower_whisker"
   ]
  },
  {
   "cell_type": "code",
   "execution_count": 22,
   "id": "68f40806",
   "metadata": {},
   "outputs": [
    {
     "data": {
      "text/plain": [
       "103.0"
      ]
     },
     "execution_count": 22,
     "metadata": {},
     "output_type": "execute_result"
    }
   ],
   "source": [
    "s_upper_whisker= min(s_75+(1.5*s_iqr),sehwag[\"Runs\"].max())\n",
    "s_upper_whisker"
   ]
  },
  {
   "cell_type": "code",
   "execution_count": 25,
   "id": "684af0ca",
   "metadata": {},
   "outputs": [
    {
     "data": {
      "text/html": [
       "<div>\n",
       "<style scoped>\n",
       "    .dataframe tbody tr th:only-of-type {\n",
       "        vertical-align: middle;\n",
       "    }\n",
       "\n",
       "    .dataframe tbody tr th {\n",
       "        vertical-align: top;\n",
       "    }\n",
       "\n",
       "    .dataframe thead th {\n",
       "        text-align: right;\n",
       "    }\n",
       "</style>\n",
       "<table border=\"1\" class=\"dataframe\">\n",
       "  <thead>\n",
       "    <tr style=\"text-align: right;\">\n",
       "      <th></th>\n",
       "      <th>Runs</th>\n",
       "      <th>Mins</th>\n",
       "      <th>BF</th>\n",
       "      <th>4s</th>\n",
       "      <th>6s</th>\n",
       "      <th>SR</th>\n",
       "      <th>Pos</th>\n",
       "      <th>Dismissal</th>\n",
       "      <th>Inns</th>\n",
       "      <th>Unnamed: 9</th>\n",
       "      <th>Opposition</th>\n",
       "      <th>Ground</th>\n",
       "      <th>Start Date</th>\n",
       "      <th>Unnamed: 13</th>\n",
       "    </tr>\n",
       "  </thead>\n",
       "  <tbody>\n",
       "    <tr>\n",
       "      <th>37</th>\n",
       "      <td>126</td>\n",
       "      <td>136</td>\n",
       "      <td>104</td>\n",
       "      <td>21</td>\n",
       "      <td>1</td>\n",
       "      <td>121.15</td>\n",
       "      <td>1</td>\n",
       "      <td>caught</td>\n",
       "      <td>2</td>\n",
       "      <td>NaN</td>\n",
       "      <td>v England</td>\n",
       "      <td>Colombo (RPS)</td>\n",
       "      <td>22 Sep 2002</td>\n",
       "      <td>ODI # 1884</td>\n",
       "    </tr>\n",
       "    <tr>\n",
       "      <th>43</th>\n",
       "      <td>114</td>\n",
       "      <td>-</td>\n",
       "      <td>82</td>\n",
       "      <td>17</td>\n",
       "      <td>2</td>\n",
       "      <td>139.02</td>\n",
       "      <td>2</td>\n",
       "      <td>not out</td>\n",
       "      <td>2</td>\n",
       "      <td>NaN</td>\n",
       "      <td>v West Indies</td>\n",
       "      <td>Rajkot</td>\n",
       "      <td>12 Nov 2002</td>\n",
       "      <td>ODI # 1895</td>\n",
       "    </tr>\n",
       "    <tr>\n",
       "      <th>49</th>\n",
       "      <td>108</td>\n",
       "      <td>160</td>\n",
       "      <td>119</td>\n",
       "      <td>9</td>\n",
       "      <td>2</td>\n",
       "      <td>90.75</td>\n",
       "      <td>2</td>\n",
       "      <td>run out</td>\n",
       "      <td>2</td>\n",
       "      <td>NaN</td>\n",
       "      <td>v New Zealand</td>\n",
       "      <td>Napier</td>\n",
       "      <td>29 Dec 2002</td>\n",
       "      <td>ODI # 1927</td>\n",
       "    </tr>\n",
       "    <tr>\n",
       "      <th>53</th>\n",
       "      <td>112</td>\n",
       "      <td>175</td>\n",
       "      <td>139</td>\n",
       "      <td>11</td>\n",
       "      <td>3</td>\n",
       "      <td>80.57</td>\n",
       "      <td>2</td>\n",
       "      <td>caught</td>\n",
       "      <td>2</td>\n",
       "      <td>NaN</td>\n",
       "      <td>v New Zealand</td>\n",
       "      <td>Auckland</td>\n",
       "      <td>11 Jan 2003</td>\n",
       "      <td>ODI # 1933</td>\n",
       "    </tr>\n",
       "    <tr>\n",
       "      <th>75</th>\n",
       "      <td>130</td>\n",
       "      <td>193</td>\n",
       "      <td>134</td>\n",
       "      <td>15</td>\n",
       "      <td>2</td>\n",
       "      <td>97.01</td>\n",
       "      <td>1</td>\n",
       "      <td>caught</td>\n",
       "      <td>1</td>\n",
       "      <td>NaN</td>\n",
       "      <td>v New Zealand</td>\n",
       "      <td>Hyderabad (Deccan)</td>\n",
       "      <td>15 Nov 2003</td>\n",
       "      <td>ODI # 2062</td>\n",
       "    </tr>\n",
       "    <tr>\n",
       "      <th>104</th>\n",
       "      <td>108</td>\n",
       "      <td>156</td>\n",
       "      <td>95</td>\n",
       "      <td>9</td>\n",
       "      <td>3</td>\n",
       "      <td>113.68</td>\n",
       "      <td>1</td>\n",
       "      <td>bowled</td>\n",
       "      <td>1</td>\n",
       "      <td>NaN</td>\n",
       "      <td>v Pakistan</td>\n",
       "      <td>Kochi</td>\n",
       "      <td>2 Apr 2005</td>\n",
       "      <td>ODI # 2235</td>\n",
       "    </tr>\n",
       "    <tr>\n",
       "      <th>163</th>\n",
       "      <td>114</td>\n",
       "      <td>127</td>\n",
       "      <td>87</td>\n",
       "      <td>17</td>\n",
       "      <td>3</td>\n",
       "      <td>131.03</td>\n",
       "      <td>3</td>\n",
       "      <td>caught</td>\n",
       "      <td>1</td>\n",
       "      <td>NaN</td>\n",
       "      <td>v Bermuda</td>\n",
       "      <td>Port of Spain</td>\n",
       "      <td>19 Mar 2007</td>\n",
       "      <td>ODI # 2542</td>\n",
       "    </tr>\n",
       "    <tr>\n",
       "      <th>182</th>\n",
       "      <td>119</td>\n",
       "      <td>150</td>\n",
       "      <td>95</td>\n",
       "      <td>12</td>\n",
       "      <td>5</td>\n",
       "      <td>125.26</td>\n",
       "      <td>2</td>\n",
       "      <td>caught</td>\n",
       "      <td>2</td>\n",
       "      <td>NaN</td>\n",
       "      <td>v Pakistan</td>\n",
       "      <td>Karachi</td>\n",
       "      <td>26 Jun 2008</td>\n",
       "      <td>ODI # 2717</td>\n",
       "    </tr>\n",
       "    <tr>\n",
       "      <th>192</th>\n",
       "      <td>116</td>\n",
       "      <td>165</td>\n",
       "      <td>90</td>\n",
       "      <td>17</td>\n",
       "      <td>0</td>\n",
       "      <td>128.88</td>\n",
       "      <td>1</td>\n",
       "      <td>run out</td>\n",
       "      <td>1</td>\n",
       "      <td>NaN</td>\n",
       "      <td>v Sri Lanka</td>\n",
       "      <td>Colombo (RPS)</td>\n",
       "      <td>3 Feb 2009</td>\n",
       "      <td>ODI # 2813</td>\n",
       "    </tr>\n",
       "    <tr>\n",
       "      <th>198</th>\n",
       "      <td>125</td>\n",
       "      <td>106</td>\n",
       "      <td>74</td>\n",
       "      <td>14</td>\n",
       "      <td>6</td>\n",
       "      <td>168.91</td>\n",
       "      <td>2</td>\n",
       "      <td>not out</td>\n",
       "      <td>2</td>\n",
       "      <td>NaN</td>\n",
       "      <td>v New Zealand</td>\n",
       "      <td>Hamilton</td>\n",
       "      <td>11 Mar 2009</td>\n",
       "      <td>ODI # 2824</td>\n",
       "    </tr>\n",
       "    <tr>\n",
       "      <th>206</th>\n",
       "      <td>146</td>\n",
       "      <td>166</td>\n",
       "      <td>102</td>\n",
       "      <td>17</td>\n",
       "      <td>6</td>\n",
       "      <td>143.13</td>\n",
       "      <td>1</td>\n",
       "      <td>caught</td>\n",
       "      <td>1</td>\n",
       "      <td>NaN</td>\n",
       "      <td>v Sri Lanka</td>\n",
       "      <td>Rajkot</td>\n",
       "      <td>15 Dec 2009</td>\n",
       "      <td>ODI # 2932</td>\n",
       "    </tr>\n",
       "    <tr>\n",
       "      <th>220</th>\n",
       "      <td>110</td>\n",
       "      <td>136</td>\n",
       "      <td>93</td>\n",
       "      <td>16</td>\n",
       "      <td>1</td>\n",
       "      <td>118.27</td>\n",
       "      <td>2</td>\n",
       "      <td>caught</td>\n",
       "      <td>1</td>\n",
       "      <td>NaN</td>\n",
       "      <td>v New Zealand</td>\n",
       "      <td>Dambulla</td>\n",
       "      <td>25 Aug 2010</td>\n",
       "      <td>ODI # 3039</td>\n",
       "    </tr>\n",
       "    <tr>\n",
       "      <th>222</th>\n",
       "      <td>175</td>\n",
       "      <td>198</td>\n",
       "      <td>140</td>\n",
       "      <td>14</td>\n",
       "      <td>5</td>\n",
       "      <td>125.00</td>\n",
       "      <td>1</td>\n",
       "      <td>bowled</td>\n",
       "      <td>1</td>\n",
       "      <td>NaN</td>\n",
       "      <td>v Bangladesh</td>\n",
       "      <td>Mirpur</td>\n",
       "      <td>19 Feb 2011</td>\n",
       "      <td>ODI # 3100</td>\n",
       "    </tr>\n",
       "    <tr>\n",
       "      <th>233</th>\n",
       "      <td>219</td>\n",
       "      <td>208</td>\n",
       "      <td>149</td>\n",
       "      <td>25</td>\n",
       "      <td>7</td>\n",
       "      <td>146.97</td>\n",
       "      <td>2</td>\n",
       "      <td>caught</td>\n",
       "      <td>1</td>\n",
       "      <td>NaN</td>\n",
       "      <td>v West Indies</td>\n",
       "      <td>Indore</td>\n",
       "      <td>8 Dec 2011</td>\n",
       "      <td>ODI # 3223</td>\n",
       "    </tr>\n",
       "  </tbody>\n",
       "</table>\n",
       "</div>"
      ],
      "text/plain": [
       "     Runs Mins   BF  4s  6s      SR  Pos Dismissal  Inns  Unnamed: 9  \\\n",
       "37    126  136  104  21   1  121.15    1    caught     2         NaN   \n",
       "43    114    -   82  17   2  139.02    2   not out     2         NaN   \n",
       "49    108  160  119   9   2   90.75    2   run out     2         NaN   \n",
       "53    112  175  139  11   3   80.57    2    caught     2         NaN   \n",
       "75    130  193  134  15   2   97.01    1    caught     1         NaN   \n",
       "104   108  156   95   9   3  113.68    1    bowled     1         NaN   \n",
       "163   114  127   87  17   3  131.03    3    caught     1         NaN   \n",
       "182   119  150   95  12   5  125.26    2    caught     2         NaN   \n",
       "192   116  165   90  17   0  128.88    1   run out     1         NaN   \n",
       "198   125  106   74  14   6  168.91    2   not out     2         NaN   \n",
       "206   146  166  102  17   6  143.13    1    caught     1         NaN   \n",
       "220   110  136   93  16   1  118.27    2    caught     1         NaN   \n",
       "222   175  198  140  14   5  125.00    1    bowled     1         NaN   \n",
       "233   219  208  149  25   7  146.97    2    caught     1         NaN   \n",
       "\n",
       "        Opposition              Ground   Start Date Unnamed: 13  \n",
       "37       v England       Colombo (RPS)  22 Sep 2002  ODI # 1884  \n",
       "43   v West Indies              Rajkot  12 Nov 2002  ODI # 1895  \n",
       "49   v New Zealand              Napier  29 Dec 2002  ODI # 1927  \n",
       "53   v New Zealand            Auckland  11 Jan 2003  ODI # 1933  \n",
       "75   v New Zealand  Hyderabad (Deccan)  15 Nov 2003  ODI # 2062  \n",
       "104     v Pakistan               Kochi   2 Apr 2005  ODI # 2235  \n",
       "163      v Bermuda       Port of Spain  19 Mar 2007  ODI # 2542  \n",
       "182     v Pakistan             Karachi  26 Jun 2008  ODI # 2717  \n",
       "192    v Sri Lanka       Colombo (RPS)   3 Feb 2009  ODI # 2813  \n",
       "198  v New Zealand            Hamilton  11 Mar 2009  ODI # 2824  \n",
       "206    v Sri Lanka              Rajkot  15 Dec 2009  ODI # 2932  \n",
       "220  v New Zealand            Dambulla  25 Aug 2010  ODI # 3039  \n",
       "222   v Bangladesh              Mirpur  19 Feb 2011  ODI # 3100  \n",
       "233  v West Indies              Indore   8 Dec 2011  ODI # 3223  "
      ]
     },
     "execution_count": 25,
     "metadata": {},
     "output_type": "execute_result"
    }
   ],
   "source": [
    "s_outlier=sehwag.loc[sehwag[\"Runs\"]>s_upper_whisker]\n",
    "s_outlier"
   ]
  },
  {
   "cell_type": "code",
   "execution_count": 28,
   "id": "73d7b425",
   "metadata": {},
   "outputs": [
    {
     "data": {
      "text/plain": [
       "14"
      ]
     },
     "execution_count": 28,
     "metadata": {},
     "output_type": "execute_result"
    }
   ],
   "source": [
    "s_outlier.shape[0]"
   ]
  },
  {
   "cell_type": "code",
   "execution_count": 29,
   "id": "8392d7e8",
   "metadata": {},
   "outputs": [
    {
     "data": {
      "text/plain": [
       "245"
      ]
     },
     "execution_count": 29,
     "metadata": {},
     "output_type": "execute_result"
    }
   ],
   "source": [
    "sehwag.shape[0]"
   ]
  },
  {
   "cell_type": "code",
   "execution_count": 30,
   "id": "b3ebfa2c",
   "metadata": {},
   "outputs": [
    {
     "data": {
      "text/plain": [
       "0.05714285714285714"
      ]
     },
     "execution_count": 30,
     "metadata": {},
     "output_type": "execute_result"
    }
   ],
   "source": [
    "s_outlier.shape[0]/sehwag.shape[0]"
   ]
  },
  {
   "cell_type": "code",
   "execution_count": 32,
   "id": "2046a6da",
   "metadata": {
    "scrolled": true
   },
   "outputs": [
    {
     "data": {
      "text/plain": [
       "<AxesSubplot:xlabel='Runs'>"
      ]
     },
     "execution_count": 32,
     "metadata": {},
     "output_type": "execute_result"
    },
    {
     "data": {
      "image/png": "[encoded data removed]",
      "text/plain": [
       "<Figure size 432x288 with 1 Axes>"
      ]
     },
     "metadata": {
      "needs_background": "light"
     },
     "output_type": "display_data"
    }
   ],
   "source": [
    "sns.boxplot(x=sehwag[\"Runs\"])"
   ]
  },
  {
   "cell_type": "code",
   "execution_count": 33,
   "id": "cc936e13",
   "metadata": {},
   "outputs": [],
   "source": [
    "sns.boxplot?"
   ]
  },
  {
   "cell_type": "code",
   "execution_count": 34,
   "id": "5d1fb10f",
   "metadata": {},
   "outputs": [
    {
     "data": {
      "text/plain": [
       "count    318.000000\n",
       "mean      34.242138\n",
       "std       29.681822\n",
       "min        0.000000\n",
       "25%       10.000000\n",
       "50%       26.000000\n",
       "75%       54.000000\n",
       "max      153.000000\n",
       "Name: Runs, dtype: float64"
      ]
     },
     "execution_count": 34,
     "metadata": {},
     "output_type": "execute_result"
    }
   ],
   "source": [
    "dravid[\"Runs\"].describe()"
   ]
  },
  {
   "cell_type": "code",
   "execution_count": 35,
   "id": "41536e9f",
   "metadata": {},
   "outputs": [
    {
     "data": {
      "text/plain": [
       "<AxesSubplot:xlabel='Runs'>"
      ]
     },
     "execution_count": 35,
     "metadata": {},
     "output_type": "execute_result"
    },
    {
     "data": {
      "image/png": "[encoded data removed]",
      "text/plain": [
       "<Figure size 432x288 with 1 Axes>"
      ]
     },
     "metadata": {
      "needs_background": "light"
     },
     "output_type": "display_data"
    }
   ],
   "source": [
    "sns.boxplot(x=dravid[\"Runs\"])"
   ]
  },
  {
   "cell_type": "code",
   "execution_count": 40,
   "id": "9c67b3de",
   "metadata": {},
   "outputs": [],
   "source": [
    "d_25=np.percentile(dravid[\"Runs\"],25) # percentile of Q1\n",
    "d_50=np.percentile(dravid[\"Runs\"],50) # percentile of Q2\n",
    "d_75=np.percentile(dravid[\"Runs\"],75) # percentile of Q3\n",
    "d_iqr=d_75-d_25\n"
   ]
  },
  {
   "cell_type": "code",
   "execution_count": 41,
   "id": "42d47433",
   "metadata": {},
   "outputs": [
    {
     "data": {
      "text/plain": [
       "0"
      ]
     },
     "execution_count": 41,
     "metadata": {},
     "output_type": "execute_result"
    }
   ],
   "source": [
    "d_lower_whisker= max(d_25-(1.5*d_iqr),dravid[\"Runs\"].min())\n",
    "d_lower_whisker"
   ]
  },
  {
   "cell_type": "code",
   "execution_count": 42,
   "id": "f5c4d583",
   "metadata": {},
   "outputs": [
    {
     "data": {
      "text/plain": [
       "120.0"
      ]
     },
     "execution_count": 42,
     "metadata": {},
     "output_type": "execute_result"
    }
   ],
   "source": [
    "d_upper_whisker= min(d_75+(1.5*d_iqr),dravid[\"Runs\"].max())\n",
    "d_upper_whisker"
   ]
  },
  {
   "cell_type": "code",
   "execution_count": 44,
   "id": "2c923641",
   "metadata": {},
   "outputs": [
    {
     "data": {
      "text/html": [
       "<div>\n",
       "<style scoped>\n",
       "    .dataframe tbody tr th:only-of-type {\n",
       "        vertical-align: middle;\n",
       "    }\n",
       "\n",
       "    .dataframe tbody tr th {\n",
       "        vertical-align: top;\n",
       "    }\n",
       "\n",
       "    .dataframe thead th {\n",
       "        text-align: right;\n",
       "    }\n",
       "</style>\n",
       "<table border=\"1\" class=\"dataframe\">\n",
       "  <thead>\n",
       "    <tr style=\"text-align: right;\">\n",
       "      <th></th>\n",
       "      <th>Runs</th>\n",
       "      <th>Mins</th>\n",
       "      <th>BF</th>\n",
       "      <th>4s</th>\n",
       "      <th>6s</th>\n",
       "      <th>SR</th>\n",
       "      <th>Pos</th>\n",
       "      <th>Dismissal</th>\n",
       "      <th>Inns</th>\n",
       "      <th>Unnamed: 9</th>\n",
       "      <th>Opposition</th>\n",
       "      <th>Ground</th>\n",
       "      <th>Start Date</th>\n",
       "      <th>Unnamed: 13</th>\n",
       "    </tr>\n",
       "  </thead>\n",
       "  <tbody>\n",
       "    <tr>\n",
       "      <th>58</th>\n",
       "      <td>123</td>\n",
       "      <td>201</td>\n",
       "      <td>123</td>\n",
       "      <td>10</td>\n",
       "      <td>1</td>\n",
       "      <td>100.0</td>\n",
       "      <td>3</td>\n",
       "      <td>not out</td>\n",
       "      <td>1</td>\n",
       "      <td>NaN</td>\n",
       "      <td>v New Zealand</td>\n",
       "      <td>Taupo</td>\n",
       "      <td>9 Jan 1999</td>\n",
       "      <td>ODI # 1378</td>\n",
       "    </tr>\n",
       "    <tr>\n",
       "      <th>76</th>\n",
       "      <td>145</td>\n",
       "      <td>179</td>\n",
       "      <td>129</td>\n",
       "      <td>17</td>\n",
       "      <td>1</td>\n",
       "      <td>112.4</td>\n",
       "      <td>3</td>\n",
       "      <td>run out</td>\n",
       "      <td>1</td>\n",
       "      <td>NaN</td>\n",
       "      <td>v Sri Lanka</td>\n",
       "      <td>Taunton</td>\n",
       "      <td>26 May 1999</td>\n",
       "      <td>ODI # 1463</td>\n",
       "    </tr>\n",
       "    <tr>\n",
       "      <th>97</th>\n",
       "      <td>153</td>\n",
       "      <td>196</td>\n",
       "      <td>153</td>\n",
       "      <td>15</td>\n",
       "      <td>2</td>\n",
       "      <td>100.0</td>\n",
       "      <td>3</td>\n",
       "      <td>caught</td>\n",
       "      <td>1</td>\n",
       "      <td>NaN</td>\n",
       "      <td>v New Zealand</td>\n",
       "      <td>Hyderabad (Deccan)</td>\n",
       "      <td>8 Nov 1999</td>\n",
       "      <td>ODI # 1523</td>\n",
       "    </tr>\n",
       "  </tbody>\n",
       "</table>\n",
       "</div>"
      ],
      "text/plain": [
       "    Runs Mins   BF  4s  6s     SR  Pos Dismissal  Inns  Unnamed: 9  \\\n",
       "58   123  201  123  10   1  100.0    3   not out     1         NaN   \n",
       "76   145  179  129  17   1  112.4    3   run out     1         NaN   \n",
       "97   153  196  153  15   2  100.0    3    caught     1         NaN   \n",
       "\n",
       "       Opposition              Ground   Start Date Unnamed: 13  \n",
       "58  v New Zealand               Taupo   9 Jan 1999  ODI # 1378  \n",
       "76    v Sri Lanka             Taunton  26 May 1999  ODI # 1463  \n",
       "97  v New Zealand  Hyderabad (Deccan)   8 Nov 1999  ODI # 1523  "
      ]
     },
     "execution_count": 44,
     "metadata": {},
     "output_type": "execute_result"
    }
   ],
   "source": [
    "d_outlier=dravid.loc[dravid[\"Runs\"]>d_upper_whisker]\n",
    "d_outlier"
   ]
  },
  {
   "cell_type": "code",
   "execution_count": 45,
   "id": "7e13ad35",
   "metadata": {},
   "outputs": [
    {
     "data": {
      "text/plain": [
       "0.009433962264150943"
      ]
     },
     "execution_count": 45,
     "metadata": {},
     "output_type": "execute_result"
    }
   ],
   "source": [
    "d_outlier.shape[0]/dravid.shape[0]"
   ]
  },
  {
   "cell_type": "code",
   "execution_count": 46,
   "id": "19d531d7",
   "metadata": {},
   "outputs": [
    {
     "data": {
      "text/plain": [
       "[                         Player       Span  Mat  Inns  NO   Runs    HS    Ave  \\\n",
       " 0            SR Tendulkar (IND)  1989-2012  463   452  41  18426  200*  44.83   \n",
       " 1   KC Sangakkara (Asia/ICC/SL)  2000-2015  404   380  41  14234   169  41.98   \n",
       " 2          RT Ponting (AUS/ICC)  1995-2012  375   365  39  13704   164  42.03   \n",
       " 3       ST Jayasuriya (Asia/SL)  1989-2011  445   433  18  13430   189  32.36   \n",
       " 4                 V Kohli (IND)  2008-2023  274   265  40  12898   183  57.32   \n",
       " ..                          ...        ...  ...   ...  ..    ...   ...    ...   \n",
       " 88               JP Duminy (SA)  2004-2019  199   179  40   5117  150*  36.81   \n",
       " 89         PD Collingwood (ENG)  2001-2011  197   181  37   5092  120*  35.36   \n",
       " 90             Babar Azam (PAK)  2015-2023  100    98  12   5089   158  59.17   \n",
       " 91              A Symonds (AUS)  1998-2009  198   161  33   5088   156  39.75   \n",
       " 92      Abdul Razzaq (Asia/PAK)  1996-2011  265   228  57   5080   112  29.70   \n",
       " \n",
       "        BF     SR 100  50   0    4s   6s  \n",
       " 0   21368  86.23  49  96  20  2016  195  \n",
       " 1   18048  78.86  25  93  15  1385   88  \n",
       " 2   17046  80.39  30  82  20  1231  162  \n",
       " 3   14725  91.20  28  68  34  1500  270  \n",
       " 4   13776  93.62  46  65  15  1211  138  \n",
       " ..    ...    ...  ..  ..  ..   ...  ...  \n",
       " 88   6052  84.55   4  27   7   347   75  \n",
       " 89   6614  76.98   5  26   7   365   74  \n",
       " 90   5702  89.24  18  26   3   458   51  \n",
       " 91   5504  92.44   6  30  15   449  103  \n",
       " 92   6252  81.25   3  23  14   382  124  \n",
       " \n",
       " [93 rows x 15 columns]]"
      ]
     },
     "execution_count": 46,
     "metadata": {},
     "output_type": "execute_result"
    }
   ],
   "source": [
    "df=pd.read_html(\"https://www.espncricinfo.com/records/most-runs-in-career-83548\")\n",
    "df"
   ]
  },
  {
   "cell_type": "code",
   "execution_count": 47,
   "id": "5edcad40",
   "metadata": {},
   "outputs": [
    {
     "data": {
      "text/plain": [
       "list"
      ]
     },
     "execution_count": 47,
     "metadata": {},
     "output_type": "execute_result"
    }
   ],
   "source": [
    "type(df)"
   ]
  },
  {
   "cell_type": "code",
   "execution_count": 49,
   "id": "a83797ef",
   "metadata": {},
   "outputs": [
    {
     "data": {
      "text/html": [
       "<div>\n",
       "<style scoped>\n",
       "    .dataframe tbody tr th:only-of-type {\n",
       "        vertical-align: middle;\n",
       "    }\n",
       "\n",
       "    .dataframe tbody tr th {\n",
       "        vertical-align: top;\n",
       "    }\n",
       "\n",
       "    .dataframe thead th {\n",
       "        text-align: right;\n",
       "    }\n",
       "</style>\n",
       "<table border=\"1\" class=\"dataframe\">\n",
       "  <thead>\n",
       "    <tr style=\"text-align: right;\">\n",
       "      <th></th>\n",
       "      <th>Player</th>\n",
       "      <th>Span</th>\n",
       "      <th>Mat</th>\n",
       "      <th>Inns</th>\n",
       "      <th>NO</th>\n",
       "      <th>Runs</th>\n",
       "      <th>HS</th>\n",
       "      <th>Ave</th>\n",
       "      <th>BF</th>\n",
       "      <th>SR</th>\n",
       "      <th>100</th>\n",
       "      <th>50</th>\n",
       "      <th>0</th>\n",
       "      <th>4s</th>\n",
       "      <th>6s</th>\n",
       "    </tr>\n",
       "  </thead>\n",
       "  <tbody>\n",
       "    <tr>\n",
       "      <th>0</th>\n",
       "      <td>SR Tendulkar (IND)</td>\n",
       "      <td>1989-2012</td>\n",
       "      <td>463</td>\n",
       "      <td>452</td>\n",
       "      <td>41</td>\n",
       "      <td>18426</td>\n",
       "      <td>200*</td>\n",
       "      <td>44.83</td>\n",
       "      <td>21368</td>\n",
       "      <td>86.23</td>\n",
       "      <td>49</td>\n",
       "      <td>96</td>\n",
       "      <td>20</td>\n",
       "      <td>2016</td>\n",
       "      <td>195</td>\n",
       "    </tr>\n",
       "    <tr>\n",
       "      <th>1</th>\n",
       "      <td>KC Sangakkara (Asia/ICC/SL)</td>\n",
       "      <td>2000-2015</td>\n",
       "      <td>404</td>\n",
       "      <td>380</td>\n",
       "      <td>41</td>\n",
       "      <td>14234</td>\n",
       "      <td>169</td>\n",
       "      <td>41.98</td>\n",
       "      <td>18048</td>\n",
       "      <td>78.86</td>\n",
       "      <td>25</td>\n",
       "      <td>93</td>\n",
       "      <td>15</td>\n",
       "      <td>1385</td>\n",
       "      <td>88</td>\n",
       "    </tr>\n",
       "    <tr>\n",
       "      <th>2</th>\n",
       "      <td>RT Ponting (AUS/ICC)</td>\n",
       "      <td>1995-2012</td>\n",
       "      <td>375</td>\n",
       "      <td>365</td>\n",
       "      <td>39</td>\n",
       "      <td>13704</td>\n",
       "      <td>164</td>\n",
       "      <td>42.03</td>\n",
       "      <td>17046</td>\n",
       "      <td>80.39</td>\n",
       "      <td>30</td>\n",
       "      <td>82</td>\n",
       "      <td>20</td>\n",
       "      <td>1231</td>\n",
       "      <td>162</td>\n",
       "    </tr>\n",
       "    <tr>\n",
       "      <th>3</th>\n",
       "      <td>ST Jayasuriya (Asia/SL)</td>\n",
       "      <td>1989-2011</td>\n",
       "      <td>445</td>\n",
       "      <td>433</td>\n",
       "      <td>18</td>\n",
       "      <td>13430</td>\n",
       "      <td>189</td>\n",
       "      <td>32.36</td>\n",
       "      <td>14725</td>\n",
       "      <td>91.20</td>\n",
       "      <td>28</td>\n",
       "      <td>68</td>\n",
       "      <td>34</td>\n",
       "      <td>1500</td>\n",
       "      <td>270</td>\n",
       "    </tr>\n",
       "    <tr>\n",
       "      <th>4</th>\n",
       "      <td>V Kohli (IND)</td>\n",
       "      <td>2008-2023</td>\n",
       "      <td>274</td>\n",
       "      <td>265</td>\n",
       "      <td>40</td>\n",
       "      <td>12898</td>\n",
       "      <td>183</td>\n",
       "      <td>57.32</td>\n",
       "      <td>13776</td>\n",
       "      <td>93.62</td>\n",
       "      <td>46</td>\n",
       "      <td>65</td>\n",
       "      <td>15</td>\n",
       "      <td>1211</td>\n",
       "      <td>138</td>\n",
       "    </tr>\n",
       "    <tr>\n",
       "      <th>...</th>\n",
       "      <td>...</td>\n",
       "      <td>...</td>\n",
       "      <td>...</td>\n",
       "      <td>...</td>\n",
       "      <td>...</td>\n",
       "      <td>...</td>\n",
       "      <td>...</td>\n",
       "      <td>...</td>\n",
       "      <td>...</td>\n",
       "      <td>...</td>\n",
       "      <td>...</td>\n",
       "      <td>...</td>\n",
       "      <td>...</td>\n",
       "      <td>...</td>\n",
       "      <td>...</td>\n",
       "    </tr>\n",
       "    <tr>\n",
       "      <th>88</th>\n",
       "      <td>JP Duminy (SA)</td>\n",
       "      <td>2004-2019</td>\n",
       "      <td>199</td>\n",
       "      <td>179</td>\n",
       "      <td>40</td>\n",
       "      <td>5117</td>\n",
       "      <td>150*</td>\n",
       "      <td>36.81</td>\n",
       "      <td>6052</td>\n",
       "      <td>84.55</td>\n",
       "      <td>4</td>\n",
       "      <td>27</td>\n",
       "      <td>7</td>\n",
       "      <td>347</td>\n",
       "      <td>75</td>\n",
       "    </tr>\n",
       "    <tr>\n",
       "      <th>89</th>\n",
       "      <td>PD Collingwood (ENG)</td>\n",
       "      <td>2001-2011</td>\n",
       "      <td>197</td>\n",
       "      <td>181</td>\n",
       "      <td>37</td>\n",
       "      <td>5092</td>\n",
       "      <td>120*</td>\n",
       "      <td>35.36</td>\n",
       "      <td>6614</td>\n",
       "      <td>76.98</td>\n",
       "      <td>5</td>\n",
       "      <td>26</td>\n",
       "      <td>7</td>\n",
       "      <td>365</td>\n",
       "      <td>74</td>\n",
       "    </tr>\n",
       "    <tr>\n",
       "      <th>90</th>\n",
       "      <td>Babar Azam (PAK)</td>\n",
       "      <td>2015-2023</td>\n",
       "      <td>100</td>\n",
       "      <td>98</td>\n",
       "      <td>12</td>\n",
       "      <td>5089</td>\n",
       "      <td>158</td>\n",
       "      <td>59.17</td>\n",
       "      <td>5702</td>\n",
       "      <td>89.24</td>\n",
       "      <td>18</td>\n",
       "      <td>26</td>\n",
       "      <td>3</td>\n",
       "      <td>458</td>\n",
       "      <td>51</td>\n",
       "    </tr>\n",
       "    <tr>\n",
       "      <th>91</th>\n",
       "      <td>A Symonds (AUS)</td>\n",
       "      <td>1998-2009</td>\n",
       "      <td>198</td>\n",
       "      <td>161</td>\n",
       "      <td>33</td>\n",
       "      <td>5088</td>\n",
       "      <td>156</td>\n",
       "      <td>39.75</td>\n",
       "      <td>5504</td>\n",
       "      <td>92.44</td>\n",
       "      <td>6</td>\n",
       "      <td>30</td>\n",
       "      <td>15</td>\n",
       "      <td>449</td>\n",
       "      <td>103</td>\n",
       "    </tr>\n",
       "    <tr>\n",
       "      <th>92</th>\n",
       "      <td>Abdul Razzaq (Asia/PAK)</td>\n",
       "      <td>1996-2011</td>\n",
       "      <td>265</td>\n",
       "      <td>228</td>\n",
       "      <td>57</td>\n",
       "      <td>5080</td>\n",
       "      <td>112</td>\n",
       "      <td>29.70</td>\n",
       "      <td>6252</td>\n",
       "      <td>81.25</td>\n",
       "      <td>3</td>\n",
       "      <td>23</td>\n",
       "      <td>14</td>\n",
       "      <td>382</td>\n",
       "      <td>124</td>\n",
       "    </tr>\n",
       "  </tbody>\n",
       "</table>\n",
       "<p>93 rows × 15 columns</p>\n",
       "</div>"
      ],
      "text/plain": [
       "                         Player       Span  Mat  Inns  NO   Runs    HS    Ave  \\\n",
       "0            SR Tendulkar (IND)  1989-2012  463   452  41  18426  200*  44.83   \n",
       "1   KC Sangakkara (Asia/ICC/SL)  2000-2015  404   380  41  14234   169  41.98   \n",
       "2          RT Ponting (AUS/ICC)  1995-2012  375   365  39  13704   164  42.03   \n",
       "3       ST Jayasuriya (Asia/SL)  1989-2011  445   433  18  13430   189  32.36   \n",
       "4                 V Kohli (IND)  2008-2023  274   265  40  12898   183  57.32   \n",
       "..                          ...        ...  ...   ...  ..    ...   ...    ...   \n",
       "88               JP Duminy (SA)  2004-2019  199   179  40   5117  150*  36.81   \n",
       "89         PD Collingwood (ENG)  2001-2011  197   181  37   5092  120*  35.36   \n",
       "90             Babar Azam (PAK)  2015-2023  100    98  12   5089   158  59.17   \n",
       "91              A Symonds (AUS)  1998-2009  198   161  33   5088   156  39.75   \n",
       "92      Abdul Razzaq (Asia/PAK)  1996-2011  265   228  57   5080   112  29.70   \n",
       "\n",
       "       BF     SR 100  50   0    4s   6s  \n",
       "0   21368  86.23  49  96  20  2016  195  \n",
       "1   18048  78.86  25  93  15  1385   88  \n",
       "2   17046  80.39  30  82  20  1231  162  \n",
       "3   14725  91.20  28  68  34  1500  270  \n",
       "4   13776  93.62  46  65  15  1211  138  \n",
       "..    ...    ...  ..  ..  ..   ...  ...  \n",
       "88   6052  84.55   4  27   7   347   75  \n",
       "89   6614  76.98   5  26   7   365   74  \n",
       "90   5702  89.24  18  26   3   458   51  \n",
       "91   5504  92.44   6  30  15   449  103  \n",
       "92   6252  81.25   3  23  14   382  124  \n",
       "\n",
       "[93 rows x 15 columns]"
      ]
     },
     "execution_count": 49,
     "metadata": {},
     "output_type": "execute_result"
    }
   ],
   "source": [
    "df1=df[0]\n",
    "df1"
   ]
  },
  {
   "cell_type": "code",
   "execution_count": null,
   "id": "6ccd4ce1",
   "metadata": {},
   "outputs": [],
   "source": [
    "s_outlier= data.loc[(data[\"col\"]> s_upper_whisker)|(data[\"col\"]< s_lower_whisker)]"
   ]
  }
 ],
 "metadata": {
  "kernelspec": {
   "display_name": "Python 3 (ipykernel)",
   "language": "python",
   "name": "python3"
  },
  "language_info": {
   "codemirror_mode": {
    "name": "ipython",
    "version": 3
   },
   "file_extension": ".py",
   "mimetype": "text/x-python",
   "name": "python",
   "nbconvert_exporter": "python",
   "pygments_lexer": "ipython3",
   "version": "3.9.7"
  },
  "varInspector": {
   "cols": {
    "lenName": 16,
    "lenType": 16,
    "lenVar": 40
   },
   "kernels_config": {
    "python": {
     "delete_cmd_postfix": "",
     "delete_cmd_prefix": "del ",
     "library": "var_list.py",
     "varRefreshCmd": "print(var_dic_list())"
    },
    "r": {
     "delete_cmd_postfix": ") ",
     "delete_cmd_prefix": "rm(",
     "library": "var_list.r",
     "varRefreshCmd": "cat(var_dic_list()) "
    }
   },
   "types_to_exclude": [
    "module",
    "function",
    "builtin_function_or_method",
    "instance",
    "_Feature"
   ],
   "window_display": false
  }
 },
 "nbformat": 4,
 "nbformat_minor": 5
}
