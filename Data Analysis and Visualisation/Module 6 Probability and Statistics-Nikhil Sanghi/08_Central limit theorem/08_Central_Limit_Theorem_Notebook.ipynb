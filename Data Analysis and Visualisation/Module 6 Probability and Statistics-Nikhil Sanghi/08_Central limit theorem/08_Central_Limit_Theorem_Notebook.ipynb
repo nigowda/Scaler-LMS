{
 "cells": [
  {
   "cell_type": "markdown",
   "id": "e0671d64",
   "metadata": {
    "heading_collapsed": true
   },
   "source": [
    "## Imports"
   ]
  },
  {
   "cell_type": "code",
   "execution_count": 2,
   "id": "145aff8e",
   "metadata": {
    "hidden": true
   },
   "outputs": [],
   "source": [
    "import numpy as np\n",
    "import pandas as pd\n",
    "import seaborn as sns\n",
    "import matplotlib.pyplot as plt\n",
    "\n",
    "from scipy.stats import norm"
   ]
  },
  {
   "cell_type": "markdown",
   "id": "c4579807",
   "metadata": {
    "heading_collapsed": true
   },
   "source": [
    "## CLT"
   ]
  },
  {
   "cell_type": "markdown",
   "id": "d8b573d6",
   "metadata": {
    "heading_collapsed": true,
    "hidden": true
   },
   "source": [
    "### Population"
   ]
  },
  {
   "cell_type": "code",
   "execution_count": 3,
   "id": "99ba3ae4",
   "metadata": {
    "hidden": true
   },
   "outputs": [
    {
     "data": {
      "text/html": [
       "<div>\n",
       "<style scoped>\n",
       "    .dataframe tbody tr th:only-of-type {\n",
       "        vertical-align: middle;\n",
       "    }\n",
       "\n",
       "    .dataframe tbody tr th {\n",
       "        vertical-align: top;\n",
       "    }\n",
       "\n",
       "    .dataframe thead th {\n",
       "        text-align: right;\n",
       "    }\n",
       "</style>\n",
       "<table border=\"1\" class=\"dataframe\">\n",
       "  <thead>\n",
       "    <tr style=\"text-align: right;\">\n",
       "      <th></th>\n",
       "      <th>Gender</th>\n",
       "      <th>Height</th>\n",
       "      <th>Weight</th>\n",
       "    </tr>\n",
       "  </thead>\n",
       "  <tbody>\n",
       "    <tr>\n",
       "      <th>0</th>\n",
       "      <td>Male</td>\n",
       "      <td>73.847017</td>\n",
       "      <td>241.893563</td>\n",
       "    </tr>\n",
       "    <tr>\n",
       "      <th>1</th>\n",
       "      <td>Male</td>\n",
       "      <td>68.781904</td>\n",
       "      <td>162.310473</td>\n",
       "    </tr>\n",
       "    <tr>\n",
       "      <th>2</th>\n",
       "      <td>Male</td>\n",
       "      <td>74.110105</td>\n",
       "      <td>212.740856</td>\n",
       "    </tr>\n",
       "    <tr>\n",
       "      <th>3</th>\n",
       "      <td>Male</td>\n",
       "      <td>71.730978</td>\n",
       "      <td>220.042470</td>\n",
       "    </tr>\n",
       "    <tr>\n",
       "      <th>4</th>\n",
       "      <td>Male</td>\n",
       "      <td>69.881796</td>\n",
       "      <td>206.349801</td>\n",
       "    </tr>\n",
       "    <tr>\n",
       "      <th>...</th>\n",
       "      <td>...</td>\n",
       "      <td>...</td>\n",
       "      <td>...</td>\n",
       "    </tr>\n",
       "    <tr>\n",
       "      <th>9995</th>\n",
       "      <td>Female</td>\n",
       "      <td>66.172652</td>\n",
       "      <td>136.777454</td>\n",
       "    </tr>\n",
       "    <tr>\n",
       "      <th>9996</th>\n",
       "      <td>Female</td>\n",
       "      <td>67.067155</td>\n",
       "      <td>170.867906</td>\n",
       "    </tr>\n",
       "    <tr>\n",
       "      <th>9997</th>\n",
       "      <td>Female</td>\n",
       "      <td>63.867992</td>\n",
       "      <td>128.475319</td>\n",
       "    </tr>\n",
       "    <tr>\n",
       "      <th>9998</th>\n",
       "      <td>Female</td>\n",
       "      <td>69.034243</td>\n",
       "      <td>163.852461</td>\n",
       "    </tr>\n",
       "    <tr>\n",
       "      <th>9999</th>\n",
       "      <td>Female</td>\n",
       "      <td>61.944246</td>\n",
       "      <td>113.649103</td>\n",
       "    </tr>\n",
       "  </tbody>\n",
       "</table>\n",
       "<p>10000 rows × 3 columns</p>\n",
       "</div>"
      ],
      "text/plain": [
       "      Gender     Height      Weight\n",
       "0       Male  73.847017  241.893563\n",
       "1       Male  68.781904  162.310473\n",
       "2       Male  74.110105  212.740856\n",
       "3       Male  71.730978  220.042470\n",
       "4       Male  69.881796  206.349801\n",
       "...      ...        ...         ...\n",
       "9995  Female  66.172652  136.777454\n",
       "9996  Female  67.067155  170.867906\n",
       "9997  Female  63.867992  128.475319\n",
       "9998  Female  69.034243  163.852461\n",
       "9999  Female  61.944246  113.649103\n",
       "\n",
       "[10000 rows x 3 columns]"
      ]
     },
     "execution_count": 3,
     "metadata": {},
     "output_type": "execute_result"
    }
   ],
   "source": [
    "df = pd.read_csv(\"weight-height.csv\")\n",
    "df"
   ]
  },
  {
   "cell_type": "code",
   "execution_count": 72,
   "id": "910d0376",
   "metadata": {
    "hidden": true
   },
   "outputs": [
    {
     "data": {
      "text/plain": [
       "<AxesSubplot:xlabel='Height', ylabel='Count'>"
      ]
     },
     "execution_count": 72,
     "metadata": {},
     "output_type": "execute_result"
    },
    {
     "data": {
      "image/png": "[encoded data removed]",
      "text/plain": [
       "<Figure size 432x288 with 1 Axes>"
      ]
     },
     "metadata": {
      "needs_background": "light"
     },
     "output_type": "display_data"
    }
   ],
   "source": [
    "sns.histplot(df[\"Height\"])"
   ]
  },
  {
   "cell_type": "code",
   "execution_count": 18,
   "id": "30341840",
   "metadata": {
    "hidden": true
   },
   "outputs": [
    {
     "data": {
      "text/plain": [
       "66.36755975482106"
      ]
     },
     "execution_count": 18,
     "metadata": {},
     "output_type": "execute_result"
    }
   ],
   "source": [
    "df[\"Height\"].mean()"
   ]
  },
  {
   "cell_type": "code",
   "execution_count": 78,
   "id": "6fa76d62",
   "metadata": {
    "hidden": true
   },
   "outputs": [
    {
     "data": {
      "text/plain": [
       "3.8475281207732324"
      ]
     },
     "execution_count": 78,
     "metadata": {},
     "output_type": "execute_result"
    }
   ],
   "source": [
    "sigma=df[\"Height\"].std()\n",
    "sigma"
   ]
  },
  {
   "cell_type": "markdown",
   "id": "25bbd793",
   "metadata": {
    "heading_collapsed": true,
    "hidden": true
   },
   "source": [
    "### Sample of 5"
   ]
  },
  {
   "cell_type": "code",
   "execution_count": 16,
   "id": "6ab05edd",
   "metadata": {
    "hidden": true
   },
   "outputs": [
    {
     "data": {
      "text/plain": [
       "5299    59.304007\n",
       "2895    71.382577\n",
       "8735    61.426205\n",
       "1596    66.628435\n",
       "1482    68.610922\n",
       "Name: Height, dtype: float64"
      ]
     },
     "execution_count": 16,
     "metadata": {},
     "output_type": "execute_result"
    }
   ],
   "source": [
    "df[\"Height\"].sample(5)"
   ]
  },
  {
   "cell_type": "code",
   "execution_count": 65,
   "id": "41e63afe",
   "metadata": {
    "hidden": true
   },
   "outputs": [],
   "source": [
    "sample_5_mean=[np.mean(df[\"Height\"].sample(5)) for i in range(10000)]\n",
    "# sample_5_mean"
   ]
  },
  {
   "cell_type": "code",
   "execution_count": 66,
   "id": "66cfcbc9",
   "metadata": {
    "hidden": true
   },
   "outputs": [
    {
     "data": {
      "text/plain": [
       "<AxesSubplot:ylabel='Count'>"
      ]
     },
     "execution_count": 66,
     "metadata": {},
     "output_type": "execute_result"
    },
    {
     "data": {
      "image/png": "[encoded data removed]",
      "text/plain": [
       "<Figure size 432x288 with 1 Axes>"
      ]
     },
     "metadata": {
      "needs_background": "light"
     },
     "output_type": "display_data"
    }
   ],
   "source": [
    "sns.histplot(sample_5_mean)"
   ]
  },
  {
   "cell_type": "code",
   "execution_count": 67,
   "id": "7de1708e",
   "metadata": {
    "hidden": true
   },
   "outputs": [
    {
     "data": {
      "text/plain": [
       "66.37516623229443"
      ]
     },
     "execution_count": 67,
     "metadata": {},
     "output_type": "execute_result"
    }
   ],
   "source": [
    "np.mean(sample_5_mean)"
   ]
  },
  {
   "cell_type": "code",
   "execution_count": 68,
   "id": "628b80c2",
   "metadata": {
    "hidden": true
   },
   "outputs": [
    {
     "data": {
      "text/plain": [
       "1.7295648087604485"
      ]
     },
     "execution_count": 68,
     "metadata": {},
     "output_type": "execute_result"
    }
   ],
   "source": [
    "np.std(sample_5_mean)"
   ]
  },
  {
   "cell_type": "code",
   "execution_count": 79,
   "id": "8fd06276",
   "metadata": {
    "hidden": true
   },
   "outputs": [
    {
     "data": {
      "text/plain": [
       "1.7206668846781936"
      ]
     },
     "execution_count": 79,
     "metadata": {},
     "output_type": "execute_result"
    }
   ],
   "source": [
    "sigma/np.sqrt(5)"
   ]
  },
  {
   "cell_type": "markdown",
   "id": "cb9d86da",
   "metadata": {
    "heading_collapsed": true,
    "hidden": true
   },
   "source": [
    "### Sample of 20"
   ]
  },
  {
   "cell_type": "code",
   "execution_count": 69,
   "id": "f86c1c26",
   "metadata": {
    "hidden": true
   },
   "outputs": [],
   "source": [
    "sample_20_mean=[np.mean(df[\"Height\"].sample(20)) for i in range(10000)]\n",
    "# sample_20_mean"
   ]
  },
  {
   "cell_type": "code",
   "execution_count": 71,
   "id": "75dbd353",
   "metadata": {
    "hidden": true
   },
   "outputs": [
    {
     "data": {
      "text/plain": [
       "<AxesSubplot:ylabel='Count'>"
      ]
     },
     "execution_count": 71,
     "metadata": {},
     "output_type": "execute_result"
    },
    {
     "data": {
      "image/png": "[encoded data removed]",
      "text/plain": [
       "<Figure size 432x288 with 1 Axes>"
      ]
     },
     "metadata": {
      "needs_background": "light"
     },
     "output_type": "display_data"
    }
   ],
   "source": [
    "sns.histplot(sample_20_mean)"
   ]
  },
  {
   "cell_type": "code",
   "execution_count": 73,
   "id": "074e0c24",
   "metadata": {
    "hidden": true
   },
   "outputs": [
    {
     "data": {
      "text/plain": [
       "66.36291592254688"
      ]
     },
     "execution_count": 73,
     "metadata": {},
     "output_type": "execute_result"
    }
   ],
   "source": [
    "np.mean(sample_20_mean)"
   ]
  },
  {
   "cell_type": "code",
   "execution_count": 74,
   "id": "b700e7ed",
   "metadata": {
    "hidden": true
   },
   "outputs": [
    {
     "data": {
      "text/plain": [
       "0.8650732838955196"
      ]
     },
     "execution_count": 74,
     "metadata": {},
     "output_type": "execute_result"
    }
   ],
   "source": [
    "np.std(sample_20_mean)"
   ]
  },
  {
   "cell_type": "code",
   "execution_count": 80,
   "id": "6cbfe0ed",
   "metadata": {
    "hidden": true
   },
   "outputs": [
    {
     "data": {
      "text/plain": [
       "0.8603334423390968"
      ]
     },
     "execution_count": 80,
     "metadata": {},
     "output_type": "execute_result"
    }
   ],
   "source": [
    "sigma/np.sqrt(20)"
   ]
  },
  {
   "cell_type": "code",
   "execution_count": 75,
   "id": "c24926f6",
   "metadata": {
    "hidden": true
   },
   "outputs": [],
   "source": [
    "sample_20_mean=[np.mean(df[\"Height\"].sample(1)) for i in range(10000)]\n",
    "# sample_20_mean"
   ]
  },
  {
   "cell_type": "code",
   "execution_count": 76,
   "id": "43644de0",
   "metadata": {
    "hidden": true
   },
   "outputs": [
    {
     "data": {
      "text/plain": [
       "<AxesSubplot:ylabel='Count'>"
      ]
     },
     "execution_count": 76,
     "metadata": {},
     "output_type": "execute_result"
    },
    {
     "data": {
      "image/png": "[encoded data removed]",
      "text/plain": [
       "<Figure size 432x288 with 1 Axes>"
      ]
     },
     "metadata": {
      "needs_background": "light"
     },
     "output_type": "display_data"
    }
   ],
   "source": [
    "sns.histplot(sample_20_mean)"
   ]
  },
  {
   "cell_type": "markdown",
   "id": "6c3d8729",
   "metadata": {
    "heading_collapsed": true
   },
   "source": [
    "## Q1. Blood Pressure Problem Statement"
   ]
  },
  {
   "cell_type": "markdown",
   "id": "70fe84e5",
   "metadata": {
    "hidden": true
   },
   "source": [
    "Systolic blood pressure of a group of people is known to have an average of 122 mmHg and a standard deviation of 10 mmHg\n",
    "\n",
    "Calculate the probability that the average blood pressure of 16 people will be greater than 125 mmHg."
   ]
  },
  {
   "cell_type": "code",
   "execution_count": 82,
   "id": "4ecb9bbd",
   "metadata": {
    "hidden": true
   },
   "outputs": [
    {
     "data": {
      "text/plain": [
       "0.11506967022170822"
      ]
     },
     "execution_count": 82,
     "metadata": {},
     "output_type": "execute_result"
    }
   ],
   "source": [
    "1-norm.cdf(1.2)"
   ]
  },
  {
   "cell_type": "code",
   "execution_count": 83,
   "id": "f8b043db",
   "metadata": {
    "hidden": true
   },
   "outputs": [
    {
     "data": {
      "text/plain": [
       "0.11506967022170822"
      ]
     },
     "execution_count": 83,
     "metadata": {},
     "output_type": "execute_result"
    }
   ],
   "source": [
    "1-norm.cdf(x=125,loc=122,scale=2.5)"
   ]
  },
  {
   "cell_type": "markdown",
   "id": "c5b39c3d",
   "metadata": {
    "heading_collapsed": true
   },
   "source": [
    "## Q2. Weekly Tooth Paste Sales Problem Statement"
   ]
  },
  {
   "cell_type": "markdown",
   "id": "a02d41bc",
   "metadata": {
    "hidden": true
   },
   "source": [
    "Weekly toothpaste sales have a mean 1000 and std dev 200. What is the probability that the average weekly sales next month is more than 1110?"
   ]
  },
  {
   "cell_type": "code",
   "execution_count": 85,
   "id": "186a90d4",
   "metadata": {
    "hidden": true
   },
   "outputs": [
    {
     "data": {
      "text/plain": [
       "0.13566606094638267"
      ]
     },
     "execution_count": 85,
     "metadata": {},
     "output_type": "execute_result"
    }
   ],
   "source": [
    "1-norm.cdf((1110-1000)/100)"
   ]
  },
  {
   "cell_type": "code",
   "execution_count": 84,
   "id": "ee95657e",
   "metadata": {
    "hidden": true
   },
   "outputs": [
    {
     "data": {
      "text/plain": [
       "0.13566606094638267"
      ]
     },
     "execution_count": 84,
     "metadata": {},
     "output_type": "execute_result"
    }
   ],
   "source": [
    "1-norm.cdf(x=1110,loc=1000,scale=100)"
   ]
  },
  {
   "cell_type": "markdown",
   "id": "e1218f4d",
   "metadata": {
    "heading_collapsed": true
   },
   "source": [
    "## Q3. Ecommerce Problem Statement"
   ]
  },
  {
   "cell_type": "markdown",
   "id": "3d5d5afc",
   "metadata": {
    "hidden": true
   },
   "source": [
    "In an e-commerce website, the average purchase amount per customer is \\\\$80 with a standard deviation of \\\\$15. If we randomly select a sample of 50 customers, what is the probability that the average purchase amount in the sample will be less than $75?"
   ]
  },
  {
   "cell_type": "code",
   "execution_count": 87,
   "id": "d1300420",
   "metadata": {
    "hidden": true
   },
   "outputs": [
    {
     "data": {
      "text/plain": [
       "0.009211062727049501"
      ]
     },
     "execution_count": 87,
     "metadata": {},
     "output_type": "execute_result"
    }
   ],
   "source": [
    "norm.cdf(x=75,loc=80,scale=(15/np.sqrt(50))) # less than $75"
   ]
  },
  {
   "cell_type": "code",
   "execution_count": 89,
   "id": "a40e8e29",
   "metadata": {
    "hidden": true
   },
   "outputs": [
    {
     "data": {
      "text/plain": [
       "0.009211062727049501"
      ]
     },
     "execution_count": 89,
     "metadata": {},
     "output_type": "execute_result"
    }
   ],
   "source": [
    "norm.cdf((75-80)/(15/np.sqrt(50)))"
   ]
  },
  {
   "cell_type": "code",
   "execution_count": 90,
   "id": "86594c4f",
   "metadata": {
    "hidden": true
   },
   "outputs": [
    {
     "data": {
      "text/plain": [
       "0.9907889372729505"
      ]
     },
     "execution_count": 90,
     "metadata": {},
     "output_type": "execute_result"
    }
   ],
   "source": [
    "1- norm.cdf(x=75,loc=80,scale=(15/np.sqrt(50))) # more than $75"
   ]
  },
  {
   "cell_type": "code",
   "execution_count": null,
   "id": "d7958413",
   "metadata": {
    "hidden": true
   },
   "outputs": [],
   "source": []
  },
  {
   "cell_type": "code",
   "execution_count": null,
   "id": "b0d8dd3a",
   "metadata": {
    "hidden": true
   },
   "outputs": [],
   "source": []
  }
 ],
 "metadata": {
  "kernelspec": {
   "display_name": "Python 3 (ipykernel)",
   "language": "python",
   "name": "python3"
  },
  "language_info": {
   "codemirror_mode": {
    "name": "ipython",
    "version": 3
   },
   "file_extension": ".py",
   "mimetype": "text/x-python",
   "name": "python",
   "nbconvert_exporter": "python",
   "pygments_lexer": "ipython3",
   "version": "3.9.7"
  },
  "varInspector": {
   "cols": {
    "lenName": 16,
    "lenType": 16,
    "lenVar": 40
   },
   "kernels_config": {
    "python": {
     "delete_cmd_postfix": "",
     "delete_cmd_prefix": "del ",
     "library": "var_list.py",
     "varRefreshCmd": "print(var_dic_list())"
    },
    "r": {
     "delete_cmd_postfix": ") ",
     "delete_cmd_prefix": "rm(",
     "library": "var_list.r",
     "varRefreshCmd": "cat(var_dic_list()) "
    }
   },
   "types_to_exclude": [
    "module",
    "function",
    "builtin_function_or_method",
    "instance",
    "_Feature"
   ],
   "window_display": false
  }
 },
 "nbformat": 4,
 "nbformat_minor": 5
}
