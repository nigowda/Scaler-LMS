{
 "cells": [
  {
   "cell_type": "code",
   "execution_count": 23,
   "metadata": {
    "id": "5XaIcYQv3CK-"
   },
   "outputs": [],
   "source": [
    "import numpy as np\n",
    "import pandas as pd\n",
    "from scipy.stats import norm,t, ttest_1samp\n",
    "import matplotlib.pyplot as plt"
   ]
  },
  {
   "cell_type": "markdown",
   "metadata": {
    "id": "7uSnehjJAuA3"
   },
   "source": [
    "# Example 1"
   ]
  },
  {
   "cell_type": "markdown",
   "metadata": {
    "id": "FAsMHLfp3FUr"
   },
   "source": [
    "A french cake shop claims that the average number of pastries they can produce in a day exceeds 500. The average number of pastries produced per day over a 70 day period was found to be 530. Assume that the population standard deviation for the pastries produced per day is 125. Test the claim using a z-test with the critical z-value = 1.64 at the alpha (significance level) = 0.05, and state your interpretation."
   ]
  },
  {
   "cell_type": "code",
   "execution_count": 2,
   "metadata": {
    "colab": {
     "base_uri": "https://localhost:8080/"
    },
    "id": "oTXOcU4z3EIN",
    "outputId": "773974f2-90f7-4e29-802f-b8320649e027"
   },
   "outputs": [
    {
     "name": "stdout",
     "output_type": "stream",
     "text": [
      "z_stat :  2.007984063681781\n",
      "alpha :  0.05\n",
      "p_value :  0.022322492581293485\n",
      "Reject Ho\n"
     ]
    }
   ],
   "source": [
    "# Ho : mu = 500\n",
    "# Ha : mu > 500\n",
    "\n",
    "z_stat = (530-500)/(125/np.sqrt(70))\n",
    "print(\"z_stat : \", z_stat)\n",
    "alpha = 0.05\n",
    "print(\"alpha : \", alpha)\n",
    "p_value = 1-norm.cdf(z_stat)\n",
    "print(\"p_value : \", p_value)\n",
    "if p_value < alpha :\n",
    "  print(\"Reject Ho\")\n",
    "else:\n",
    "  print(\"Failed to Reject Ho\")"
   ]
  },
  {
   "cell_type": "code",
   "execution_count": 3,
   "metadata": {
    "colab": {
     "base_uri": "https://localhost:8080/"
    },
    "id": "iCOza1Kh3EKf",
    "outputId": "5edb2610-53a1-462b-dad9-6d26e512a54a"
   },
   "outputs": [
    {
     "name": "stdout",
     "output_type": "stream",
     "text": [
      "z_critical_value :  1.6448536269514722\n"
     ]
    }
   ],
   "source": [
    "z_critical_value=norm.ppf(0.95)\n",
    "print(\"z_critical_value : \",z_critical_value)"
   ]
  },
  {
   "cell_type": "code",
   "execution_count": 4,
   "metadata": {
    "colab": {
     "base_uri": "https://localhost:8080/"
    },
    "id": "4bTEUB3-3ENJ",
    "outputId": "7017552e-6160-4368-e374-b502e4be7ddb"
   },
   "outputs": [
    {
     "name": "stdout",
     "output_type": "stream",
     "text": [
      "critical_value :  524.574701413748\n"
     ]
    }
   ],
   "source": [
    "critical_value = 500 + (z_critical_value*(125/np.sqrt(70)))\n",
    "print(\"critical_value : \",critical_value)"
   ]
  },
  {
   "cell_type": "code",
   "execution_count": 5,
   "metadata": {
    "colab": {
     "base_uri": "https://localhost:8080/"
    },
    "id": "ygZu0uq53EPO",
    "outputId": "a48b2f8f-e63b-4e3b-8e14-637e443ffd24"
   },
   "outputs": [
    {
     "data": {
      "text/plain": [
       "524.574701413748"
      ]
     },
     "execution_count": 5,
     "metadata": {},
     "output_type": "execute_result"
    }
   ],
   "source": [
    "norm.ppf(q=0.95,loc=500,scale=(125/np.sqrt(70)))"
   ]
  },
  {
   "cell_type": "code",
   "execution_count": 6,
   "metadata": {
    "colab": {
     "base_uri": "https://localhost:8080/"
    },
    "id": "AYpLCyhC7_mR",
    "outputId": "7d8dc7af-369d-4826-85b2-89747cebb960"
   },
   "outputs": [
    {
     "name": "stdout",
     "output_type": "stream",
     "text": [
      "Interpretation : Reject Ho\n"
     ]
    }
   ],
   "source": [
    "observed_value= 530\n",
    "if critical_value < observed_value:\n",
    "  print(\"Interpretation : Reject Ho\")\n",
    "else:\n",
    "  print(\"Interpretation : Fail to Reject Ho\")"
   ]
  },
  {
   "cell_type": "code",
   "execution_count": null,
   "metadata": {
    "id": "S56OLO_c8SOb"
   },
   "outputs": [],
   "source": []
  },
  {
   "cell_type": "markdown",
   "metadata": {
    "id": "-7jZTpboAxdh"
   },
   "source": [
    "# T Distribution"
   ]
  },
  {
   "cell_type": "code",
   "execution_count": 18,
   "metadata": {
    "colab": {
     "base_uri": "https://localhost:8080/",
     "height": 448
    },
    "id": "XMp291NfAl7f",
    "outputId": "09591d3f-222e-4371-85b6-7774618d8529"
   },
   "outputs": [
    {
     "data": {
      "text/plain": [
       "[<matplotlib.lines.Line2D at 0x78b8591903a0>]"
      ]
     },
     "execution_count": 18,
     "metadata": {},
     "output_type": "execute_result"
    },
    {
     "data": {
      "image/png": "[encoded data removed]",
      "text/plain": [
       "<Figure size 640x480 with 1 Axes>"
      ]
     },
     "metadata": {},
     "output_type": "display_data"
    }
   ],
   "source": [
    "x_val = np.linspace(-10,10,1000)\n",
    "y_val = norm.cdf(x_val)\n",
    "plt.plot(x_val,y_val,color=\"Blue\")\n",
    "\n",
    "y_val_t = t.cdf(x_val,df=30)\n",
    "plt.plot(x_val,y_val_t,color=\"Red\")"
   ]
  },
  {
   "cell_type": "code",
   "execution_count": null,
   "metadata": {
    "id": "yyxSQqGMAmoC"
   },
   "outputs": [],
   "source": []
  },
  {
   "cell_type": "code",
   "execution_count": null,
   "metadata": {
    "id": "pTP01dkaAmrY"
   },
   "outputs": [],
   "source": []
  },
  {
   "cell_type": "markdown",
   "metadata": {
    "id": "ndnOLKE3NZLx"
   },
   "source": [
    "# Pill Question"
   ]
  },
  {
   "cell_type": "code",
   "execution_count": null,
   "metadata": {
    "id": "e2poFSIUAmtf"
   },
   "outputs": [],
   "source": [
    "# population Mean = 100\n",
    "# One researcher claims that the pill will help in increasing the iq"
   ]
  },
  {
   "cell_type": "code",
   "execution_count": 22,
   "metadata": {
    "id": "BgDnWUEWAmv-"
   },
   "outputs": [],
   "source": [
    "# Ho : mu = 100 ( pill had no effect)\n",
    "# Ha : mu > 100 ( pill had  effect)\n"
   ]
  },
  {
   "cell_type": "code",
   "execution_count": 20,
   "metadata": {
    "id": "r2VTsaY8Amyb"
   },
   "outputs": [],
   "source": [
    "iq_scores = [110, 105, 98, 102, 99, 104, 115, 95]"
   ]
  },
  {
   "cell_type": "code",
   "execution_count": 31,
   "metadata": {
    "colab": {
     "base_uri": "https://localhost:8080/"
    },
    "id": "fpLRYyNkQ99p",
    "outputId": "1d2ad2df-e693-40f1-8ac3-4ffa07728618"
   },
   "outputs": [
    {
     "data": {
      "text/plain": [
       "6.568322247184371"
      ]
     },
     "execution_count": 31,
     "metadata": {},
     "output_type": "execute_result"
    }
   ],
   "source": [
    "np.std(iq_scores,ddof=1)"
   ]
  },
  {
   "cell_type": "code",
   "execution_count": 32,
   "metadata": {
    "colab": {
     "base_uri": "https://localhost:8080/"
    },
    "id": "1B1_PYcYRCWi",
    "outputId": "b6f10b6a-323f-4bed-b2dd-2fbc06ea8f06"
   },
   "outputs": [
    {
     "data": {
      "text/plain": [
       "6.568322247184371"
      ]
     },
     "execution_count": 32,
     "metadata": {},
     "output_type": "execute_result"
    }
   ],
   "source": [
    "pd.Series(iq_scores).std()"
   ]
  },
  {
   "cell_type": "code",
   "execution_count": 21,
   "metadata": {
    "colab": {
     "base_uri": "https://localhost:8080/"
    },
    "id": "CzGgb1s-Am04",
    "outputId": "5e9691a2-d0a4-4973-a6e0-5dd50dd94934"
   },
   "outputs": [
    {
     "data": {
      "text/plain": [
       "103.5"
      ]
     },
     "execution_count": 21,
     "metadata": {},
     "output_type": "execute_result"
    }
   ],
   "source": [
    "np.mean(iq_scores)"
   ]
  },
  {
   "cell_type": "code",
   "execution_count": null,
   "metadata": {
    "id": "Y7WJ2698Am3U"
   },
   "outputs": [],
   "source": [
    "# Establish at 99% confidence ( 0.01 significance level)\n"
   ]
  },
  {
   "cell_type": "code",
   "execution_count": 25,
   "metadata": {
    "colab": {
     "base_uri": "https://localhost:8080/"
    },
    "id": "nycBSevaAm59",
    "outputId": "863ac998-e721-42f4-e51b-2d8a81301174"
   },
   "outputs": [
    {
     "data": {
      "text/plain": [
       "TtestResult(statistic=1.5071573172061195, pvalue=0.08774972467925055, df=7)"
      ]
     },
     "execution_count": 25,
     "metadata": {},
     "output_type": "execute_result"
    }
   ],
   "source": [
    "ttest_1samp(iq_scores,100,alternative=\"greater\")"
   ]
  },
  {
   "cell_type": "code",
   "execution_count": 26,
   "metadata": {
    "id": "JCymSCsdAm8l"
   },
   "outputs": [],
   "source": [
    "# # fail to reject the Ho"
   ]
  },
  {
   "cell_type": "code",
   "execution_count": 28,
   "metadata": {
    "colab": {
     "base_uri": "https://localhost:8080/"
    },
    "id": "CrCTcI05O6th",
    "outputId": "ad58ad0a-26d4-4e27-e5d5-938202f4c849"
   },
   "outputs": [
    {
     "data": {
      "text/plain": [
       "1.5071573172061195"
      ]
     },
     "execution_count": 28,
     "metadata": {},
     "output_type": "execute_result"
    }
   ],
   "source": [
    "t_stat=(103.5-100)/(pd.Series(iq_scores).std()/np.sqrt(8))\n",
    "t_stat"
   ]
  },
  {
   "cell_type": "code",
   "execution_count": 29,
   "metadata": {
    "colab": {
     "base_uri": "https://localhost:8080/"
    },
    "id": "Vt-DcwaEAm-3",
    "outputId": "d267d852-2edf-45f3-a607-54ce700d7637"
   },
   "outputs": [
    {
     "data": {
      "text/plain": [
       "0.08774972467925057"
      ]
     },
     "execution_count": 29,
     "metadata": {},
     "output_type": "execute_result"
    }
   ],
   "source": [
    "1-t.cdf(t_stat,df=7)"
   ]
  },
  {
   "cell_type": "code",
   "execution_count": null,
   "metadata": {
    "id": "nj9fxAwmO5oe"
   },
   "outputs": [],
   "source": []
  },
  {
   "cell_type": "code",
   "execution_count": null,
   "metadata": {
    "id": "34JQS4bdAnBV"
   },
   "outputs": [],
   "source": []
  }
 ],
 "metadata": {
  "colab": {
   "collapsed_sections": [
    "7uSnehjJAuA3",
    "-7jZTpboAxdh"
   ],
   "provenance": []
  },
  "kernelspec": {
   "display_name": "Python 3 (ipykernel)",
   "language": "python",
   "name": "python3"
  },
  "language_info": {
   "codemirror_mode": {
    "name": "ipython",
    "version": 3
   },
   "file_extension": ".py",
   "mimetype": "text/x-python",
   "name": "python",
   "nbconvert_exporter": "python",
   "pygments_lexer": "ipython3",
   "version": "3.9.7"
  },
  "varInspector": {
   "cols": {
    "lenName": 16,
    "lenType": 16,
    "lenVar": 40
   },
   "kernels_config": {
    "python": {
     "delete_cmd_postfix": "",
     "delete_cmd_prefix": "del ",
     "library": "var_list.py",
     "varRefreshCmd": "print(var_dic_list())"
    },
    "r": {
     "delete_cmd_postfix": ") ",
     "delete_cmd_prefix": "rm(",
     "library": "var_list.r",
     "varRefreshCmd": "cat(var_dic_list()) "
    }
   },
   "types_to_exclude": [
    "module",
    "function",
    "builtin_function_or_method",
    "instance",
    "_Feature"
   ],
   "window_display": false
  }
 },
 "nbformat": 4,
 "nbformat_minor": 1
}
