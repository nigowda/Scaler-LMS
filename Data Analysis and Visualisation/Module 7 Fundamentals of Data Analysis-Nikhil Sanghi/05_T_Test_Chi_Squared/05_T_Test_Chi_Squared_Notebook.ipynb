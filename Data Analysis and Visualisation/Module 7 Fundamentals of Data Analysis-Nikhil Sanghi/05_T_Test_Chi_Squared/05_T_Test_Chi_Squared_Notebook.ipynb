{
 "cells": [
  {
   "cell_type": "code",
   "execution_count": 34,
   "id": "1c0f4b2a",
   "metadata": {},
   "outputs": [],
   "source": [
    "import numpy as np\n",
    "import pandas as pd\n",
    "from scipy.stats import norm,t, ttest_1samp,ttest_ind,ttest_rel\n",
    "import matplotlib.pyplot as plt\n",
    "import seaborn as sns"
   ]
  },
  {
   "cell_type": "markdown",
   "id": "dd7df30a",
   "metadata": {
    "heading_collapsed": true
   },
   "source": [
    "# Paired T Test"
   ]
  },
  {
   "cell_type": "code",
   "execution_count": 41,
   "id": "35a26aaa",
   "metadata": {
    "hidden": true
   },
   "outputs": [
    {
     "data": {
      "text/html": [
       "<div>\n",
       "<style scoped>\n",
       "    .dataframe tbody tr th:only-of-type {\n",
       "        vertical-align: middle;\n",
       "    }\n",
       "\n",
       "    .dataframe tbody tr th {\n",
       "        vertical-align: top;\n",
       "    }\n",
       "\n",
       "    .dataframe thead th {\n",
       "        text-align: right;\n",
       "    }\n",
       "</style>\n",
       "<table border=\"1\" class=\"dataframe\">\n",
       "  <thead>\n",
       "    <tr style=\"text-align: right;\">\n",
       "      <th></th>\n",
       "      <th>id</th>\n",
       "      <th>test_1</th>\n",
       "      <th>test_2</th>\n",
       "    </tr>\n",
       "  </thead>\n",
       "  <tbody>\n",
       "    <tr>\n",
       "      <th>0</th>\n",
       "      <td>0</td>\n",
       "      <td>40</td>\n",
       "      <td>38</td>\n",
       "    </tr>\n",
       "    <tr>\n",
       "      <th>1</th>\n",
       "      <td>1</td>\n",
       "      <td>49</td>\n",
       "      <td>44</td>\n",
       "    </tr>\n",
       "    <tr>\n",
       "      <th>2</th>\n",
       "      <td>2</td>\n",
       "      <td>65</td>\n",
       "      <td>69</td>\n",
       "    </tr>\n",
       "    <tr>\n",
       "      <th>3</th>\n",
       "      <td>3</td>\n",
       "      <td>59</td>\n",
       "      <td>63</td>\n",
       "    </tr>\n",
       "    <tr>\n",
       "      <th>4</th>\n",
       "      <td>4</td>\n",
       "      <td>44</td>\n",
       "      <td>43</td>\n",
       "    </tr>\n",
       "    <tr>\n",
       "      <th>...</th>\n",
       "      <td>...</td>\n",
       "      <td>...</td>\n",
       "      <td>...</td>\n",
       "    </tr>\n",
       "    <tr>\n",
       "      <th>132</th>\n",
       "      <td>132</td>\n",
       "      <td>45</td>\n",
       "      <td>44</td>\n",
       "    </tr>\n",
       "    <tr>\n",
       "      <th>133</th>\n",
       "      <td>133</td>\n",
       "      <td>46</td>\n",
       "      <td>42</td>\n",
       "    </tr>\n",
       "    <tr>\n",
       "      <th>134</th>\n",
       "      <td>134</td>\n",
       "      <td>40</td>\n",
       "      <td>35</td>\n",
       "    </tr>\n",
       "    <tr>\n",
       "      <th>135</th>\n",
       "      <td>135</td>\n",
       "      <td>60</td>\n",
       "      <td>66</td>\n",
       "    </tr>\n",
       "    <tr>\n",
       "      <th>136</th>\n",
       "      <td>136</td>\n",
       "      <td>79</td>\n",
       "      <td>84</td>\n",
       "    </tr>\n",
       "  </tbody>\n",
       "</table>\n",
       "<p>137 rows × 3 columns</p>\n",
       "</div>"
      ],
      "text/plain": [
       "      id  test_1  test_2\n",
       "0      0      40      38\n",
       "1      1      49      44\n",
       "2      2      65      69\n",
       "3      3      59      63\n",
       "4      4      44      43\n",
       "..   ...     ...     ...\n",
       "132  132      45      44\n",
       "133  133      46      42\n",
       "134  134      40      35\n",
       "135  135      60      66\n",
       "136  136      79      84\n",
       "\n",
       "[137 rows x 3 columns]"
      ]
     },
     "execution_count": 41,
     "metadata": {},
     "output_type": "execute_result"
    }
   ],
   "source": [
    "df=pd.read_csv(\"problem_solving.csv\")\n",
    "df"
   ]
  },
  {
   "cell_type": "code",
   "execution_count": 4,
   "id": "6cffaed2",
   "metadata": {
    "hidden": true
   },
   "outputs": [
    {
     "data": {
      "text/plain": [
       "60.48905109489051"
      ]
     },
     "execution_count": 4,
     "metadata": {},
     "output_type": "execute_result"
    }
   ],
   "source": [
    "df[\"test_1\"].mean()"
   ]
  },
  {
   "cell_type": "code",
   "execution_count": 5,
   "id": "7224fb49",
   "metadata": {
    "hidden": true
   },
   "outputs": [
    {
     "data": {
      "text/plain": [
       "62.43065693430657"
      ]
     },
     "execution_count": 5,
     "metadata": {},
     "output_type": "execute_result"
    }
   ],
   "source": [
    "df[\"test_2\"].mean()"
   ]
  },
  {
   "cell_type": "code",
   "execution_count": null,
   "id": "c0621662",
   "metadata": {
    "hidden": true
   },
   "outputs": [],
   "source": [
    "# Ho : mu1 = mu2 ( Problem Solving Class had no effect)\n",
    "# Ha : mu1 < mu2 ( Problem Solving Class had effect)"
   ]
  },
  {
   "cell_type": "code",
   "execution_count": 10,
   "id": "5250e598",
   "metadata": {
    "hidden": true
   },
   "outputs": [
    {
     "name": "stdout",
     "output_type": "stream",
     "text": [
      "T_stat :  -5.502886353508166\n",
      "p_value :  8.979201768961566e-08\n",
      "Interpretation : Reject Ho\n"
     ]
    }
   ],
   "source": [
    "# Ho : mu1 = mu2 ( Problem Solving Class had no effect)\n",
    "# Ha : mu1 < mu2 ( Problem Solving Class had effect)\n",
    "t_stat,p_value=ttest_rel(df[\"test_1\"],df[\"test_2\"],alternative= \"less\")\n",
    "print(\"T_stat : \",t_stat)\n",
    "print(\"p_value : \",p_value)\n",
    "alpha=0.05\n",
    "if p_value<alpha:\n",
    "    print(\"Interpretation : Reject Ho\")\n",
    "else:\n",
    "    print(\"Interpretation : Fail to Reject Ho\")"
   ]
  },
  {
   "cell_type": "code",
   "execution_count": 11,
   "id": "6d625303",
   "metadata": {
    "hidden": true
   },
   "outputs": [
    {
     "name": "stdout",
     "output_type": "stream",
     "text": [
      "T_stat :  5.502886353508166\n",
      "p_value :  8.979201768961566e-08\n",
      "Interpretation : Reject Ho\n"
     ]
    }
   ],
   "source": [
    "# Ho : mu1 = mu2 ( Problem Solving Class had no effect)\n",
    "# Ha : mu2 > mu1 ( Problem Solving Class had effect)\n",
    "t_stat,p_value=ttest_rel(df[\"test_2\"],df[\"test_1\"],alternative= \"greater\")\n",
    "print(\"T_stat : \",t_stat)\n",
    "print(\"p_value : \",p_value)\n",
    "alpha=0.05\n",
    "if p_value<alpha:\n",
    "    print(\"Interpretation : Reject Ho\")\n",
    "else:\n",
    "    print(\"Interpretation : Fail to Reject Ho\")"
   ]
  },
  {
   "cell_type": "markdown",
   "id": "24fd148b",
   "metadata": {
    "hidden": true
   },
   "source": [
    "## Paired T test and TTest 1 Sample"
   ]
  },
  {
   "cell_type": "code",
   "execution_count": 42,
   "id": "e7788326",
   "metadata": {
    "hidden": true
   },
   "outputs": [
    {
     "data": {
      "text/html": [
       "<div>\n",
       "<style scoped>\n",
       "    .dataframe tbody tr th:only-of-type {\n",
       "        vertical-align: middle;\n",
       "    }\n",
       "\n",
       "    .dataframe tbody tr th {\n",
       "        vertical-align: top;\n",
       "    }\n",
       "\n",
       "    .dataframe thead th {\n",
       "        text-align: right;\n",
       "    }\n",
       "</style>\n",
       "<table border=\"1\" class=\"dataframe\">\n",
       "  <thead>\n",
       "    <tr style=\"text-align: right;\">\n",
       "      <th></th>\n",
       "      <th>id</th>\n",
       "      <th>test_1</th>\n",
       "      <th>test_2</th>\n",
       "      <th>difference</th>\n",
       "    </tr>\n",
       "  </thead>\n",
       "  <tbody>\n",
       "    <tr>\n",
       "      <th>0</th>\n",
       "      <td>0</td>\n",
       "      <td>40</td>\n",
       "      <td>38</td>\n",
       "      <td>-2</td>\n",
       "    </tr>\n",
       "    <tr>\n",
       "      <th>1</th>\n",
       "      <td>1</td>\n",
       "      <td>49</td>\n",
       "      <td>44</td>\n",
       "      <td>-5</td>\n",
       "    </tr>\n",
       "    <tr>\n",
       "      <th>2</th>\n",
       "      <td>2</td>\n",
       "      <td>65</td>\n",
       "      <td>69</td>\n",
       "      <td>4</td>\n",
       "    </tr>\n",
       "    <tr>\n",
       "      <th>3</th>\n",
       "      <td>3</td>\n",
       "      <td>59</td>\n",
       "      <td>63</td>\n",
       "      <td>4</td>\n",
       "    </tr>\n",
       "    <tr>\n",
       "      <th>4</th>\n",
       "      <td>4</td>\n",
       "      <td>44</td>\n",
       "      <td>43</td>\n",
       "      <td>-1</td>\n",
       "    </tr>\n",
       "    <tr>\n",
       "      <th>...</th>\n",
       "      <td>...</td>\n",
       "      <td>...</td>\n",
       "      <td>...</td>\n",
       "      <td>...</td>\n",
       "    </tr>\n",
       "    <tr>\n",
       "      <th>132</th>\n",
       "      <td>132</td>\n",
       "      <td>45</td>\n",
       "      <td>44</td>\n",
       "      <td>-1</td>\n",
       "    </tr>\n",
       "    <tr>\n",
       "      <th>133</th>\n",
       "      <td>133</td>\n",
       "      <td>46</td>\n",
       "      <td>42</td>\n",
       "      <td>-4</td>\n",
       "    </tr>\n",
       "    <tr>\n",
       "      <th>134</th>\n",
       "      <td>134</td>\n",
       "      <td>40</td>\n",
       "      <td>35</td>\n",
       "      <td>-5</td>\n",
       "    </tr>\n",
       "    <tr>\n",
       "      <th>135</th>\n",
       "      <td>135</td>\n",
       "      <td>60</td>\n",
       "      <td>66</td>\n",
       "      <td>6</td>\n",
       "    </tr>\n",
       "    <tr>\n",
       "      <th>136</th>\n",
       "      <td>136</td>\n",
       "      <td>79</td>\n",
       "      <td>84</td>\n",
       "      <td>5</td>\n",
       "    </tr>\n",
       "  </tbody>\n",
       "</table>\n",
       "<p>137 rows × 4 columns</p>\n",
       "</div>"
      ],
      "text/plain": [
       "      id  test_1  test_2  difference\n",
       "0      0      40      38          -2\n",
       "1      1      49      44          -5\n",
       "2      2      65      69           4\n",
       "3      3      59      63           4\n",
       "4      4      44      43          -1\n",
       "..   ...     ...     ...         ...\n",
       "132  132      45      44          -1\n",
       "133  133      46      42          -4\n",
       "134  134      40      35          -5\n",
       "135  135      60      66           6\n",
       "136  136      79      84           5\n",
       "\n",
       "[137 rows x 4 columns]"
      ]
     },
     "execution_count": 42,
     "metadata": {},
     "output_type": "execute_result"
    }
   ],
   "source": [
    "df[\"difference\"]= df[\"test_2\"]-df[\"test_1\"]\n",
    "df"
   ]
  },
  {
   "cell_type": "code",
   "execution_count": 43,
   "id": "8a686bb6",
   "metadata": {
    "hidden": true
   },
   "outputs": [
    {
     "data": {
      "text/plain": [
       "1.9416058394160585"
      ]
     },
     "execution_count": 43,
     "metadata": {},
     "output_type": "execute_result"
    }
   ],
   "source": [
    "df[\"difference\"].mean()"
   ]
  },
  {
   "cell_type": "code",
   "execution_count": 44,
   "id": "3412f565",
   "metadata": {
    "hidden": true
   },
   "outputs": [
    {
     "name": "stdout",
     "output_type": "stream",
     "text": [
      "T_stat :  5.502886353508166\n",
      "p_value :  8.979201768961566e-08\n",
      "Interpretation : Reject Ho\n"
     ]
    }
   ],
   "source": [
    "# Ho : (mu2-mu1)=0 ( Problem Solving Class had no effect)\n",
    "# Ha : (mu2-mu1)>0 ( Problem Solving Class had effect)\n",
    "t_stat,p_value=ttest_1samp(df[\"difference\"],0,alternative= \"greater\")\n",
    "print(\"T_stat : \",t_stat)\n",
    "print(\"p_value : \",p_value)\n",
    "alpha=0.05\n",
    "if p_value<alpha:\n",
    "    print(\"Interpretation : Reject Ho\")\n",
    "else:\n",
    "    print(\"Interpretation : Fail to Reject Ho\")"
   ]
  },
  {
   "cell_type": "code",
   "execution_count": null,
   "id": "e6f66461",
   "metadata": {
    "hidden": true
   },
   "outputs": [],
   "source": []
  },
  {
   "cell_type": "code",
   "execution_count": null,
   "id": "ec641f01",
   "metadata": {
    "hidden": true
   },
   "outputs": [],
   "source": []
  },
  {
   "cell_type": "code",
   "execution_count": null,
   "id": "f77fc014",
   "metadata": {
    "hidden": true
   },
   "outputs": [],
   "source": []
  },
  {
   "cell_type": "code",
   "execution_count": null,
   "id": "30539d33",
   "metadata": {
    "hidden": true
   },
   "outputs": [],
   "source": []
  },
  {
   "cell_type": "code",
   "execution_count": null,
   "id": "6fc0486c",
   "metadata": {
    "hidden": true
   },
   "outputs": [],
   "source": []
  },
  {
   "cell_type": "markdown",
   "id": "1c28e34c",
   "metadata": {},
   "source": [
    "# TTest Independant"
   ]
  },
  {
   "cell_type": "code",
   "execution_count": 14,
   "id": "c51fb05c",
   "metadata": {},
   "outputs": [
    {
     "data": {
      "text/html": [
       "<div>\n",
       "<style scoped>\n",
       "    .dataframe tbody tr th:only-of-type {\n",
       "        vertical-align: middle;\n",
       "    }\n",
       "\n",
       "    .dataframe tbody tr th {\n",
       "        vertical-align: top;\n",
       "    }\n",
       "\n",
       "    .dataframe thead th {\n",
       "        text-align: right;\n",
       "    }\n",
       "</style>\n",
       "<table border=\"1\" class=\"dataframe\">\n",
       "  <thead>\n",
       "    <tr style=\"text-align: right;\">\n",
       "      <th></th>\n",
       "      <th>runs</th>\n",
       "      <th>NotOut</th>\n",
       "      <th>mins</th>\n",
       "      <th>bf</th>\n",
       "      <th>fours</th>\n",
       "      <th>sixes</th>\n",
       "      <th>sr</th>\n",
       "      <th>Inns</th>\n",
       "      <th>Opp</th>\n",
       "      <th>Ground</th>\n",
       "      <th>Date</th>\n",
       "      <th>Winner</th>\n",
       "      <th>Won</th>\n",
       "      <th>century</th>\n",
       "    </tr>\n",
       "  </thead>\n",
       "  <tbody>\n",
       "    <tr>\n",
       "      <th>0</th>\n",
       "      <td>13</td>\n",
       "      <td>0</td>\n",
       "      <td>30</td>\n",
       "      <td>15</td>\n",
       "      <td>3</td>\n",
       "      <td>0</td>\n",
       "      <td>86.66</td>\n",
       "      <td>1</td>\n",
       "      <td>New Zealand</td>\n",
       "      <td>Napier</td>\n",
       "      <td>1995-02-16</td>\n",
       "      <td>New Zealand</td>\n",
       "      <td>False</td>\n",
       "      <td>False</td>\n",
       "    </tr>\n",
       "    <tr>\n",
       "      <th>1</th>\n",
       "      <td>37</td>\n",
       "      <td>0</td>\n",
       "      <td>75</td>\n",
       "      <td>51</td>\n",
       "      <td>3</td>\n",
       "      <td>1</td>\n",
       "      <td>72.54</td>\n",
       "      <td>2</td>\n",
       "      <td>South Africa</td>\n",
       "      <td>Hamilton</td>\n",
       "      <td>1995-02-18</td>\n",
       "      <td>South Africa</td>\n",
       "      <td>False</td>\n",
       "      <td>False</td>\n",
       "    </tr>\n",
       "    <tr>\n",
       "      <th>2</th>\n",
       "      <td>47</td>\n",
       "      <td>0</td>\n",
       "      <td>65</td>\n",
       "      <td>40</td>\n",
       "      <td>7</td>\n",
       "      <td>0</td>\n",
       "      <td>117.50</td>\n",
       "      <td>2</td>\n",
       "      <td>Australia</td>\n",
       "      <td>Dunedin</td>\n",
       "      <td>1995-02-22</td>\n",
       "      <td>India</td>\n",
       "      <td>True</td>\n",
       "      <td>False</td>\n",
       "    </tr>\n",
       "    <tr>\n",
       "      <th>3</th>\n",
       "      <td>48</td>\n",
       "      <td>0</td>\n",
       "      <td>37</td>\n",
       "      <td>30</td>\n",
       "      <td>9</td>\n",
       "      <td>1</td>\n",
       "      <td>160.00</td>\n",
       "      <td>2</td>\n",
       "      <td>Bangladesh</td>\n",
       "      <td>Sharjah</td>\n",
       "      <td>1995-04-05</td>\n",
       "      <td>India</td>\n",
       "      <td>True</td>\n",
       "      <td>False</td>\n",
       "    </tr>\n",
       "    <tr>\n",
       "      <th>4</th>\n",
       "      <td>4</td>\n",
       "      <td>0</td>\n",
       "      <td>13</td>\n",
       "      <td>9</td>\n",
       "      <td>1</td>\n",
       "      <td>0</td>\n",
       "      <td>44.44</td>\n",
       "      <td>2</td>\n",
       "      <td>Pakistan</td>\n",
       "      <td>Sharjah</td>\n",
       "      <td>1995-04-07</td>\n",
       "      <td>Pakistan</td>\n",
       "      <td>False</td>\n",
       "      <td>False</td>\n",
       "    </tr>\n",
       "    <tr>\n",
       "      <th>...</th>\n",
       "      <td>...</td>\n",
       "      <td>...</td>\n",
       "      <td>...</td>\n",
       "      <td>...</td>\n",
       "      <td>...</td>\n",
       "      <td>...</td>\n",
       "      <td>...</td>\n",
       "      <td>...</td>\n",
       "      <td>...</td>\n",
       "      <td>...</td>\n",
       "      <td>...</td>\n",
       "      <td>...</td>\n",
       "      <td>...</td>\n",
       "      <td>...</td>\n",
       "    </tr>\n",
       "    <tr>\n",
       "      <th>355</th>\n",
       "      <td>14</td>\n",
       "      <td>0</td>\n",
       "      <td>34</td>\n",
       "      <td>15</td>\n",
       "      <td>2</td>\n",
       "      <td>0</td>\n",
       "      <td>93.33</td>\n",
       "      <td>2</td>\n",
       "      <td>Australia</td>\n",
       "      <td>Sydney</td>\n",
       "      <td>2012-02-26</td>\n",
       "      <td>Australia</td>\n",
       "      <td>False</td>\n",
       "      <td>False</td>\n",
       "    </tr>\n",
       "    <tr>\n",
       "      <th>356</th>\n",
       "      <td>39</td>\n",
       "      <td>0</td>\n",
       "      <td>45</td>\n",
       "      <td>30</td>\n",
       "      <td>5</td>\n",
       "      <td>0</td>\n",
       "      <td>130.00</td>\n",
       "      <td>2</td>\n",
       "      <td>Sri Lanka</td>\n",
       "      <td>Hobart</td>\n",
       "      <td>2012-02-28</td>\n",
       "      <td>India</td>\n",
       "      <td>True</td>\n",
       "      <td>False</td>\n",
       "    </tr>\n",
       "    <tr>\n",
       "      <th>357</th>\n",
       "      <td>6</td>\n",
       "      <td>0</td>\n",
       "      <td>25</td>\n",
       "      <td>19</td>\n",
       "      <td>1</td>\n",
       "      <td>0</td>\n",
       "      <td>31.57</td>\n",
       "      <td>1</td>\n",
       "      <td>Sri Lanka</td>\n",
       "      <td>Dhaka</td>\n",
       "      <td>2012-03-13</td>\n",
       "      <td>India</td>\n",
       "      <td>True</td>\n",
       "      <td>False</td>\n",
       "    </tr>\n",
       "    <tr>\n",
       "      <th>358</th>\n",
       "      <td>114</td>\n",
       "      <td>0</td>\n",
       "      <td>205</td>\n",
       "      <td>147</td>\n",
       "      <td>12</td>\n",
       "      <td>1</td>\n",
       "      <td>77.55</td>\n",
       "      <td>1</td>\n",
       "      <td>Bangladesh</td>\n",
       "      <td>Dhaka</td>\n",
       "      <td>2012-03-16</td>\n",
       "      <td>Bangladesh</td>\n",
       "      <td>False</td>\n",
       "      <td>True</td>\n",
       "    </tr>\n",
       "    <tr>\n",
       "      <th>359</th>\n",
       "      <td>52</td>\n",
       "      <td>0</td>\n",
       "      <td>93</td>\n",
       "      <td>48</td>\n",
       "      <td>5</td>\n",
       "      <td>1</td>\n",
       "      <td>108.33</td>\n",
       "      <td>2</td>\n",
       "      <td>Pakistan</td>\n",
       "      <td>Dhaka</td>\n",
       "      <td>2012-03-18</td>\n",
       "      <td>India</td>\n",
       "      <td>True</td>\n",
       "      <td>False</td>\n",
       "    </tr>\n",
       "  </tbody>\n",
       "</table>\n",
       "<p>360 rows × 14 columns</p>\n",
       "</div>"
      ],
      "text/plain": [
       "     runs  NotOut mins   bf  fours  sixes      sr  Inns           Opp  \\\n",
       "0      13       0   30   15      3      0   86.66     1   New Zealand   \n",
       "1      37       0   75   51      3      1   72.54     2  South Africa   \n",
       "2      47       0   65   40      7      0  117.50     2     Australia   \n",
       "3      48       0   37   30      9      1  160.00     2    Bangladesh   \n",
       "4       4       0   13    9      1      0   44.44     2      Pakistan   \n",
       "..    ...     ...  ...  ...    ...    ...     ...   ...           ...   \n",
       "355    14       0   34   15      2      0   93.33     2     Australia   \n",
       "356    39       0   45   30      5      0  130.00     2     Sri Lanka   \n",
       "357     6       0   25   19      1      0   31.57     1     Sri Lanka   \n",
       "358   114       0  205  147     12      1   77.55     1    Bangladesh   \n",
       "359    52       0   93   48      5      1  108.33     2      Pakistan   \n",
       "\n",
       "       Ground        Date        Winner    Won  century  \n",
       "0      Napier  1995-02-16   New Zealand  False    False  \n",
       "1    Hamilton  1995-02-18  South Africa  False    False  \n",
       "2     Dunedin  1995-02-22         India   True    False  \n",
       "3     Sharjah  1995-04-05         India   True    False  \n",
       "4     Sharjah  1995-04-07      Pakistan  False    False  \n",
       "..        ...         ...           ...    ...      ...  \n",
       "355    Sydney  2012-02-26     Australia  False    False  \n",
       "356    Hobart  2012-02-28         India   True    False  \n",
       "357     Dhaka  2012-03-13         India   True    False  \n",
       "358     Dhaka  2012-03-16    Bangladesh  False     True  \n",
       "359     Dhaka  2012-03-18         India   True    False  \n",
       "\n",
       "[360 rows x 14 columns]"
      ]
     },
     "execution_count": 14,
     "metadata": {},
     "output_type": "execute_result"
    }
   ],
   "source": [
    "df=pd.read_csv(\"Sachin_ODI.csv\")\n",
    "df"
   ]
  },
  {
   "cell_type": "markdown",
   "id": "0fb793ce",
   "metadata": {},
   "source": [
    "## Batting pattern in 1st and 2nd Innings"
   ]
  },
  {
   "cell_type": "code",
   "execution_count": 15,
   "id": "43b2b43a",
   "metadata": {},
   "outputs": [
    {
     "data": {
      "text/plain": [
       "Inns\n",
       "1    46.670588\n",
       "2    40.173684\n",
       "Name: runs, dtype: float64"
      ]
     },
     "execution_count": 15,
     "metadata": {},
     "output_type": "execute_result"
    }
   ],
   "source": [
    "df.groupby([\"Inns\"])[\"runs\"].mean()"
   ]
  },
  {
   "cell_type": "code",
   "execution_count": 16,
   "id": "07b6bcf7",
   "metadata": {},
   "outputs": [],
   "source": [
    "df_first_innings = df.loc[df[\"Inns\"]==1][\"runs\"]\n",
    "df_second_innings = df.loc[df[\"Inns\"]== 2][\"runs\"]"
   ]
  },
  {
   "cell_type": "code",
   "execution_count": 17,
   "id": "11e62cd2",
   "metadata": {},
   "outputs": [
    {
     "data": {
      "text/plain": [
       "(46.67058823529412, 40.17368421052632)"
      ]
     },
     "execution_count": 17,
     "metadata": {},
     "output_type": "execute_result"
    }
   ],
   "source": [
    "df_first_innings.mean(),df_second_innings.mean()"
   ]
  },
  {
   "cell_type": "code",
   "execution_count": 57,
   "id": "00254f21",
   "metadata": {},
   "outputs": [
    {
     "data": {
      "text/plain": [
       "<bound method NDFrame.sample of 1       37\n",
       "2       47\n",
       "3       48\n",
       "4        4\n",
       "5      112\n",
       "      ... \n",
       "353      3\n",
       "354     22\n",
       "355     14\n",
       "356     39\n",
       "359     52\n",
       "Name: runs, Length: 190, dtype: int64>"
      ]
     },
     "execution_count": 57,
     "metadata": {},
     "output_type": "execute_result"
    }
   ],
   "source": [
    "df_second_innings.sample"
   ]
  },
  {
   "cell_type": "code",
   "execution_count": 23,
   "id": "c49d76ae",
   "metadata": {},
   "outputs": [
    {
     "name": "stdout",
     "output_type": "stream",
     "text": [
      "t_stat :  1.4612016295532178\n",
      "p_value :  0.07241862097379981\n",
      "Interpretation : Fail to Reject Ho\n"
     ]
    }
   ],
   "source": [
    "# Ho : mu1 = mu2 ( first innings performance of sachin was similar to Second Innings performance\n",
    "# Ha : mu1 > mu2 ( first innings performance of sachin was better in comparison to Second Innings performance)\n",
    "t_stat,p_value=ttest_ind(df_first_innings,df_second_innings,alternative= \"greater\")\n",
    "print(\"t_stat : \",t_stat)\n",
    "print(\"p_value : \",p_value)\n",
    "alpha=0.05\n",
    "if p_value<alpha:\n",
    "    print(\"Interpretation : Reject Ho\")\n",
    "else:\n",
    "    print(\"Interpretation : Fail to Reject Ho\")"
   ]
  },
  {
   "cell_type": "code",
   "execution_count": null,
   "id": "07cc9348",
   "metadata": {},
   "outputs": [],
   "source": []
  },
  {
   "cell_type": "markdown",
   "id": "825754c4",
   "metadata": {
    "heading_collapsed": true
   },
   "source": [
    "## Batting pattern of Sachin When India Lost Or Won"
   ]
  },
  {
   "cell_type": "code",
   "execution_count": null,
   "id": "0335ca37",
   "metadata": {
    "hidden": true
   },
   "outputs": [],
   "source": [
    "# victory vs defeat"
   ]
  },
  {
   "cell_type": "code",
   "execution_count": null,
   "id": "ecd814dd",
   "metadata": {
    "hidden": true
   },
   "outputs": [],
   "source": []
  },
  {
   "cell_type": "code",
   "execution_count": 25,
   "id": "d29ad569",
   "metadata": {
    "hidden": true
   },
   "outputs": [
    {
     "data": {
      "text/plain": [
       "Won\n",
       "False    35.130682\n",
       "True     51.000000\n",
       "Name: runs, dtype: float64"
      ]
     },
     "execution_count": 25,
     "metadata": {},
     "output_type": "execute_result"
    }
   ],
   "source": [
    "df.groupby([\"Won\"])[\"runs\"].mean()"
   ]
  },
  {
   "cell_type": "code",
   "execution_count": 26,
   "id": "faecd51b",
   "metadata": {
    "hidden": true
   },
   "outputs": [],
   "source": [
    "df_won = df.loc[df[\"Won\"]==True][\"runs\"]\n",
    "df_lost = df.loc[df[\"Won\"]== False][\"runs\"]"
   ]
  },
  {
   "cell_type": "code",
   "execution_count": 27,
   "id": "7020291d",
   "metadata": {
    "hidden": true
   },
   "outputs": [
    {
     "data": {
      "text/plain": [
       "(51.0, 35.13068181818182)"
      ]
     },
     "execution_count": 27,
     "metadata": {},
     "output_type": "execute_result"
    }
   ],
   "source": [
    "df_won.mean(),df_lost.mean()"
   ]
  },
  {
   "cell_type": "code",
   "execution_count": 28,
   "id": "d86ca8af",
   "metadata": {
    "hidden": true
   },
   "outputs": [
    {
     "name": "stdout",
     "output_type": "stream",
     "text": [
      "t_stat :  3.628068563969343\n",
      "p_value :  0.00016353077486826558\n",
      "Interpretation : Reject Ho\n"
     ]
    }
   ],
   "source": [
    "# Ho : mu_won = mu_lost ( Sachin's performance is similar in both situations , India won or lost\n",
    "# Ha : mu_won > mu_lost ( Sachin's performance is better in the innings where India won in comparison to India Lost )\n",
    "t_stat,p_value=ttest_ind(df_won,df_lost,alternative= \"greater\")\n",
    "print(\"t_stat : \",t_stat)\n",
    "print(\"p_value : \",p_value)\n",
    "alpha=0.05\n",
    "if p_value<alpha:\n",
    "    print(\"Interpretation : Reject Ho\")\n",
    "else:\n",
    "    print(\"Interpretation : Fail to Reject Ho\")"
   ]
  },
  {
   "cell_type": "code",
   "execution_count": null,
   "id": "67c01233",
   "metadata": {
    "hidden": true
   },
   "outputs": [],
   "source": []
  },
  {
   "cell_type": "markdown",
   "id": "bcfb5d18",
   "metadata": {},
   "source": [
    "# Aerofit"
   ]
  },
  {
   "cell_type": "code",
   "execution_count": 32,
   "id": "8ca86392",
   "metadata": {},
   "outputs": [
    {
     "data": {
      "text/html": [
       "<div>\n",
       "<style scoped>\n",
       "    .dataframe tbody tr th:only-of-type {\n",
       "        vertical-align: middle;\n",
       "    }\n",
       "\n",
       "    .dataframe tbody tr th {\n",
       "        vertical-align: top;\n",
       "    }\n",
       "\n",
       "    .dataframe thead th {\n",
       "        text-align: right;\n",
       "    }\n",
       "</style>\n",
       "<table border=\"1\" class=\"dataframe\">\n",
       "  <thead>\n",
       "    <tr style=\"text-align: right;\">\n",
       "      <th></th>\n",
       "      <th>Product</th>\n",
       "      <th>Age</th>\n",
       "      <th>Gender</th>\n",
       "      <th>Education</th>\n",
       "      <th>MaritalStatus</th>\n",
       "      <th>Usage</th>\n",
       "      <th>Fitness</th>\n",
       "      <th>Income</th>\n",
       "      <th>Miles</th>\n",
       "    </tr>\n",
       "  </thead>\n",
       "  <tbody>\n",
       "    <tr>\n",
       "      <th>0</th>\n",
       "      <td>KP281</td>\n",
       "      <td>18</td>\n",
       "      <td>Male</td>\n",
       "      <td>14</td>\n",
       "      <td>Single</td>\n",
       "      <td>3</td>\n",
       "      <td>4</td>\n",
       "      <td>29562</td>\n",
       "      <td>112</td>\n",
       "    </tr>\n",
       "    <tr>\n",
       "      <th>1</th>\n",
       "      <td>KP281</td>\n",
       "      <td>19</td>\n",
       "      <td>Male</td>\n",
       "      <td>15</td>\n",
       "      <td>Single</td>\n",
       "      <td>2</td>\n",
       "      <td>3</td>\n",
       "      <td>31836</td>\n",
       "      <td>75</td>\n",
       "    </tr>\n",
       "    <tr>\n",
       "      <th>2</th>\n",
       "      <td>KP281</td>\n",
       "      <td>19</td>\n",
       "      <td>Female</td>\n",
       "      <td>14</td>\n",
       "      <td>Partnered</td>\n",
       "      <td>4</td>\n",
       "      <td>3</td>\n",
       "      <td>30699</td>\n",
       "      <td>66</td>\n",
       "    </tr>\n",
       "    <tr>\n",
       "      <th>3</th>\n",
       "      <td>KP281</td>\n",
       "      <td>19</td>\n",
       "      <td>Male</td>\n",
       "      <td>12</td>\n",
       "      <td>Single</td>\n",
       "      <td>3</td>\n",
       "      <td>3</td>\n",
       "      <td>32973</td>\n",
       "      <td>85</td>\n",
       "    </tr>\n",
       "    <tr>\n",
       "      <th>4</th>\n",
       "      <td>KP281</td>\n",
       "      <td>20</td>\n",
       "      <td>Male</td>\n",
       "      <td>13</td>\n",
       "      <td>Partnered</td>\n",
       "      <td>4</td>\n",
       "      <td>2</td>\n",
       "      <td>35247</td>\n",
       "      <td>47</td>\n",
       "    </tr>\n",
       "    <tr>\n",
       "      <th>...</th>\n",
       "      <td>...</td>\n",
       "      <td>...</td>\n",
       "      <td>...</td>\n",
       "      <td>...</td>\n",
       "      <td>...</td>\n",
       "      <td>...</td>\n",
       "      <td>...</td>\n",
       "      <td>...</td>\n",
       "      <td>...</td>\n",
       "    </tr>\n",
       "    <tr>\n",
       "      <th>175</th>\n",
       "      <td>KP781</td>\n",
       "      <td>40</td>\n",
       "      <td>Male</td>\n",
       "      <td>21</td>\n",
       "      <td>Single</td>\n",
       "      <td>6</td>\n",
       "      <td>5</td>\n",
       "      <td>83416</td>\n",
       "      <td>200</td>\n",
       "    </tr>\n",
       "    <tr>\n",
       "      <th>176</th>\n",
       "      <td>KP781</td>\n",
       "      <td>42</td>\n",
       "      <td>Male</td>\n",
       "      <td>18</td>\n",
       "      <td>Single</td>\n",
       "      <td>5</td>\n",
       "      <td>4</td>\n",
       "      <td>89641</td>\n",
       "      <td>200</td>\n",
       "    </tr>\n",
       "    <tr>\n",
       "      <th>177</th>\n",
       "      <td>KP781</td>\n",
       "      <td>45</td>\n",
       "      <td>Male</td>\n",
       "      <td>16</td>\n",
       "      <td>Single</td>\n",
       "      <td>5</td>\n",
       "      <td>5</td>\n",
       "      <td>90886</td>\n",
       "      <td>160</td>\n",
       "    </tr>\n",
       "    <tr>\n",
       "      <th>178</th>\n",
       "      <td>KP781</td>\n",
       "      <td>47</td>\n",
       "      <td>Male</td>\n",
       "      <td>18</td>\n",
       "      <td>Partnered</td>\n",
       "      <td>4</td>\n",
       "      <td>5</td>\n",
       "      <td>104581</td>\n",
       "      <td>120</td>\n",
       "    </tr>\n",
       "    <tr>\n",
       "      <th>179</th>\n",
       "      <td>KP781</td>\n",
       "      <td>48</td>\n",
       "      <td>Male</td>\n",
       "      <td>18</td>\n",
       "      <td>Partnered</td>\n",
       "      <td>4</td>\n",
       "      <td>5</td>\n",
       "      <td>95508</td>\n",
       "      <td>180</td>\n",
       "    </tr>\n",
       "  </tbody>\n",
       "</table>\n",
       "<p>180 rows × 9 columns</p>\n",
       "</div>"
      ],
      "text/plain": [
       "    Product  Age  Gender  Education MaritalStatus  Usage  Fitness  Income  \\\n",
       "0     KP281   18    Male         14        Single      3        4   29562   \n",
       "1     KP281   19    Male         15        Single      2        3   31836   \n",
       "2     KP281   19  Female         14     Partnered      4        3   30699   \n",
       "3     KP281   19    Male         12        Single      3        3   32973   \n",
       "4     KP281   20    Male         13     Partnered      4        2   35247   \n",
       "..      ...  ...     ...        ...           ...    ...      ...     ...   \n",
       "175   KP781   40    Male         21        Single      6        5   83416   \n",
       "176   KP781   42    Male         18        Single      5        4   89641   \n",
       "177   KP781   45    Male         16        Single      5        5   90886   \n",
       "178   KP781   47    Male         18     Partnered      4        5  104581   \n",
       "179   KP781   48    Male         18     Partnered      4        5   95508   \n",
       "\n",
       "     Miles  \n",
       "0      112  \n",
       "1       75  \n",
       "2       66  \n",
       "3       85  \n",
       "4       47  \n",
       "..     ...  \n",
       "175    200  \n",
       "176    200  \n",
       "177    160  \n",
       "178    120  \n",
       "179    180  \n",
       "\n",
       "[180 rows x 9 columns]"
      ]
     },
     "execution_count": 32,
     "metadata": {},
     "output_type": "execute_result"
    }
   ],
   "source": [
    "df= pd.read_csv(\"aerofit.csv\")\n",
    "df"
   ]
  },
  {
   "cell_type": "code",
   "execution_count": 35,
   "id": "f99360b8",
   "metadata": {},
   "outputs": [
    {
     "data": {
      "text/plain": [
       "<AxesSubplot:xlabel='Gender', ylabel='Income'>"
      ]
     },
     "execution_count": 35,
     "metadata": {},
     "output_type": "execute_result"
    },
    {
     "data": {
      "image/png": "[encoded data removed]",
      "text/plain": [
       "<Figure size 432x288 with 1 Axes>"
      ]
     },
     "metadata": {
      "needs_background": "light"
     },
     "output_type": "display_data"
    }
   ],
   "source": [
    "sns.boxplot(x=\"Gender\",y=\"Income\",data=df)"
   ]
  },
  {
   "cell_type": "code",
   "execution_count": 36,
   "id": "61d540bf",
   "metadata": {},
   "outputs": [
    {
     "data": {
      "text/plain": [
       "Gender\n",
       "Female    49828.907895\n",
       "Male      56562.759615\n",
       "Name: Income, dtype: float64"
      ]
     },
     "execution_count": 36,
     "metadata": {},
     "output_type": "execute_result"
    }
   ],
   "source": [
    "df.groupby([\"Gender\"])[\"Income\"].mean()"
   ]
  },
  {
   "cell_type": "code",
   "execution_count": 37,
   "id": "e876abc3",
   "metadata": {},
   "outputs": [],
   "source": [
    "df_male_income= df.loc[df[\"Gender\"]==\"Male\"][\"Income\"]\n",
    "df_female_income= df.loc[df[\"Gender\"]==\"Female\"][\"Income\"]"
   ]
  },
  {
   "cell_type": "code",
   "execution_count": 38,
   "id": "2fd844f5",
   "metadata": {},
   "outputs": [
    {
     "name": "stdout",
     "output_type": "stream",
     "text": [
      "t_stat :  2.752488637540257\n",
      "p_value :  0.003263631548607129\n",
      "Interpretation : Reject Ho\n"
     ]
    }
   ],
   "source": [
    "# Ho : mu_male = mu_female ( Males and Females have similar incomes on an an avg.)\n",
    "# Ha : mu_male > mu_female ( Males have higher Income in comparison to Females)\n",
    "t_stat,p_value=ttest_ind(df_male_income,df_female_income,alternative= \"greater\")\n",
    "print(\"t_stat : \",t_stat)\n",
    "print(\"p_value : \",p_value)\n",
    "alpha=0.05\n",
    "if p_value<alpha:\n",
    "    print(\"Interpretation : Reject Ho\")\n",
    "else:\n",
    "    print(\"Interpretation : Fail to Reject Ho\")"
   ]
  },
  {
   "cell_type": "code",
   "execution_count": null,
   "id": "e88c9326",
   "metadata": {},
   "outputs": [],
   "source": []
  },
  {
   "cell_type": "code",
   "execution_count": null,
   "id": "bff73fe5",
   "metadata": {},
   "outputs": [],
   "source": []
  },
  {
   "cell_type": "code",
   "execution_count": null,
   "id": "52b96ab1",
   "metadata": {},
   "outputs": [],
   "source": []
  },
  {
   "cell_type": "code",
   "execution_count": null,
   "id": "2db51ad4",
   "metadata": {},
   "outputs": [],
   "source": []
  },
  {
   "cell_type": "code",
   "execution_count": null,
   "id": "48e707a6",
   "metadata": {},
   "outputs": [],
   "source": []
  },
  {
   "cell_type": "markdown",
   "id": "c5e48dec",
   "metadata": {},
   "source": [
    "# Doubts"
   ]
  },
  {
   "cell_type": "code",
   "execution_count": 50,
   "id": "5ab7a820",
   "metadata": {},
   "outputs": [],
   "source": [
    "test_1=np.random.randint(10,40,size=137)\n",
    "test_2=np.random.randint(20,80,size=137)"
   ]
  },
  {
   "cell_type": "code",
   "execution_count": 51,
   "id": "4b3e255c",
   "metadata": {},
   "outputs": [
    {
     "data": {
      "text/plain": [
       "24.67153284671533"
      ]
     },
     "execution_count": 51,
     "metadata": {},
     "output_type": "execute_result"
    }
   ],
   "source": [
    "test_1.mean()"
   ]
  },
  {
   "cell_type": "code",
   "execution_count": 52,
   "id": "b6a0de16",
   "metadata": {},
   "outputs": [
    {
     "data": {
      "text/plain": [
       "48.00729927007299"
      ]
     },
     "execution_count": 52,
     "metadata": {},
     "output_type": "execute_result"
    }
   ],
   "source": [
    "test_1.mean()"
   ]
  },
  {
   "cell_type": "code",
   "execution_count": 53,
   "id": "a0e71fee",
   "metadata": {},
   "outputs": [
    {
     "data": {
      "text/plain": [
       "Ttest_relResult(statistic=-12.954139217035824, pvalue=8.384017346243758e-26)"
      ]
     },
     "execution_count": 53,
     "metadata": {},
     "output_type": "execute_result"
    }
   ],
   "source": [
    "ttest_rel(test_1,test_2,alternative=\"less\")"
   ]
  },
  {
   "cell_type": "code",
   "execution_count": 54,
   "id": "3a7cddba",
   "metadata": {},
   "outputs": [
    {
     "data": {
      "text/plain": [
       "Ttest_1sampResult(statistic=12.954139217035824, pvalue=8.384017346243758e-26)"
      ]
     },
     "execution_count": 54,
     "metadata": {},
     "output_type": "execute_result"
    }
   ],
   "source": [
    "ttest_1samp(test_2-test_1,0,alternative=\"greater\")"
   ]
  },
  {
   "cell_type": "code",
   "execution_count": null,
   "id": "530fced1",
   "metadata": {},
   "outputs": [],
   "source": [
    "Get me understand, that it become 2 sided!\n",
    "couldnt figure it out! The one sample T-test\n",
    "is used when we want to compare a sample mean\n",
    "to a population mean. The average British man is 175.3 cm tall. \n",
    "A survey recorded the heights of 10 UK men and\n",
    "we want to know whether the mean of the sample \n",
    "is different from the population mean. \n",
    "survey_height = [177.3, 182.7, 169.6, 176.3, 180.3, 179.4, 178.5, 177.2, 181.8, 176.5]"
   ]
  },
  {
   "cell_type": "code",
   "execution_count": null,
   "id": "f419c052",
   "metadata": {},
   "outputs": [],
   "source": []
  },
  {
   "cell_type": "code",
   "execution_count": null,
   "id": "d35b6890",
   "metadata": {},
   "outputs": [],
   "source": []
  },
  {
   "cell_type": "code",
   "execution_count": null,
   "id": "d2ba9868",
   "metadata": {},
   "outputs": [],
   "source": [
    "so can we directly compare t_stat with t_critical like we did in z_test ?\n",
    "for .95 confidence we can calculate z_critical which is =1.64 and directly compare that with z_stat, how to calculate similarly for t the\n",
    "t_critical value, so that we don't need to compare p_value to alpha, and can directly compare the z_stat that we get?"
   ]
  },
  {
   "cell_type": "code",
   "execution_count": null,
   "id": "70bfb611",
   "metadata": {},
   "outputs": [],
   "source": []
  },
  {
   "cell_type": "code",
   "execution_count": null,
   "id": "2ed5d66c",
   "metadata": {},
   "outputs": [],
   "source": []
  },
  {
   "cell_type": "code",
   "execution_count": null,
   "id": "71fae986",
   "metadata": {},
   "outputs": [],
   "source": []
  },
  {
   "cell_type": "code",
   "execution_count": null,
   "id": "f7a48605",
   "metadata": {},
   "outputs": [],
   "source": []
  },
  {
   "cell_type": "code",
   "execution_count": null,
   "id": "4c9481ff",
   "metadata": {},
   "outputs": [],
   "source": []
  },
  {
   "cell_type": "code",
   "execution_count": null,
   "id": "2d9e5eb6",
   "metadata": {},
   "outputs": [],
   "source": []
  },
  {
   "cell_type": "code",
   "execution_count": null,
   "id": "e0d9ee0e",
   "metadata": {},
   "outputs": [],
   "source": []
  },
  {
   "cell_type": "code",
   "execution_count": null,
   "id": "a523509a",
   "metadata": {},
   "outputs": [],
   "source": []
  },
  {
   "cell_type": "code",
   "execution_count": null,
   "id": "688cace2",
   "metadata": {},
   "outputs": [],
   "source": []
  }
 ],
 "metadata": {
  "kernelspec": {
   "display_name": "Python 3 (ipykernel)",
   "language": "python",
   "name": "python3"
  },
  "language_info": {
   "codemirror_mode": {
    "name": "ipython",
    "version": 3
   },
   "file_extension": ".py",
   "mimetype": "text/x-python",
   "name": "python",
   "nbconvert_exporter": "python",
   "pygments_lexer": "ipython3",
   "version": "3.9.7"
  },
  "varInspector": {
   "cols": {
    "lenName": 16,
    "lenType": 16,
    "lenVar": 40
   },
   "kernels_config": {
    "python": {
     "delete_cmd_postfix": "",
     "delete_cmd_prefix": "del ",
     "library": "var_list.py",
     "varRefreshCmd": "print(var_dic_list())"
    },
    "r": {
     "delete_cmd_postfix": ") ",
     "delete_cmd_prefix": "rm(",
     "library": "var_list.r",
     "varRefreshCmd": "cat(var_dic_list()) "
    }
   },
   "types_to_exclude": [
    "module",
    "function",
    "builtin_function_or_method",
    "instance",
    "_Feature"
   ],
   "window_display": false
  }
 },
 "nbformat": 4,
 "nbformat_minor": 5
}
