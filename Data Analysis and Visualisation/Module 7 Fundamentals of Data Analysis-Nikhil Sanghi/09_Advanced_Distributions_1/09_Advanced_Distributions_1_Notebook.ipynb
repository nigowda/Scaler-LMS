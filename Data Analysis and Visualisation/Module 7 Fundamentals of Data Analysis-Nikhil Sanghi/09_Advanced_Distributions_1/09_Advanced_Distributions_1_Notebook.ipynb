{
 "cells": [
  {
   "cell_type": "code",
   "execution_count": 7,
   "id": "001df6fa",
   "metadata": {},
   "outputs": [],
   "source": [
    "import numpy as np\n",
    "import pandas as pd \n",
    "import matplotlib.pyplot as plt\n",
    "import seaborn as sns\n",
    "import math\n",
    "from scipy.stats import poisson"
   ]
  },
  {
   "cell_type": "code",
   "execution_count": 4,
   "id": "3e3068c4",
   "metadata": {},
   "outputs": [],
   "source": [
    "def calc_poisson(k,mu):\n",
    "    return ((mu**k)*(math.exp(-1*mu)))/math.factorial(k)"
   ]
  },
  {
   "cell_type": "code",
   "execution_count": 6,
   "id": "c8c2d0d9",
   "metadata": {},
   "outputs": [
    {
     "data": {
      "text/plain": [
       "0.10081881344492448"
      ]
     },
     "execution_count": 6,
     "metadata": {},
     "output_type": "execute_result"
    }
   ],
   "source": [
    "calc_poisson(k=5,mu=3)"
   ]
  },
  {
   "cell_type": "code",
   "execution_count": 13,
   "id": "efd8ce3d",
   "metadata": {},
   "outputs": [
    {
     "data": {
      "text/plain": [
       "0.19914827347145578"
      ]
     },
     "execution_count": 13,
     "metadata": {},
     "output_type": "execute_result"
    }
   ],
   "source": [
    "calc_poisson(k=0,mu=3)+calc_poisson(k=1,mu=3)"
   ]
  },
  {
   "cell_type": "code",
   "execution_count": 14,
   "id": "151a681f",
   "metadata": {},
   "outputs": [
    {
     "data": {
      "text/plain": [
       "0.1991482734714558"
      ]
     },
     "execution_count": 14,
     "metadata": {},
     "output_type": "execute_result"
    }
   ],
   "source": [
    "poisson.pmf(k=0,mu=3)+poisson.pmf(k=1,mu=3)"
   ]
  },
  {
   "cell_type": "code",
   "execution_count": 15,
   "id": "7270f561",
   "metadata": {},
   "outputs": [
    {
     "data": {
      "text/plain": [
       "0.1991482734714558"
      ]
     },
     "execution_count": 15,
     "metadata": {},
     "output_type": "execute_result"
    }
   ],
   "source": [
    "poisson.cdf(k=1,mu=3)"
   ]
  },
  {
   "cell_type": "code",
   "execution_count": 9,
   "id": "5128815f",
   "metadata": {},
   "outputs": [
    {
     "data": {
      "text/plain": [
       "0.10081881344492458"
      ]
     },
     "execution_count": 9,
     "metadata": {},
     "output_type": "execute_result"
    }
   ],
   "source": [
    "poisson.pmf(k=5,mu=3)"
   ]
  },
  {
   "cell_type": "code",
   "execution_count": 16,
   "id": "e1933382",
   "metadata": {},
   "outputs": [
    {
     "data": {
      "text/plain": [
       "0.07188336510431341"
      ]
     },
     "execution_count": 16,
     "metadata": {},
     "output_type": "execute_result"
    }
   ],
   "source": [
    "poisson.pmf(k=15,mu=18.5)"
   ]
  },
  {
   "cell_type": "code",
   "execution_count": 17,
   "id": "63544ca7",
   "metadata": {},
   "outputs": [
    {
     "data": {
      "text/plain": [
       "0.9992622541111789"
      ]
     },
     "execution_count": 17,
     "metadata": {},
     "output_type": "execute_result"
    }
   ],
   "source": [
    "1-poisson.cdf(k=6,mu=18.5)"
   ]
  },
  {
   "cell_type": "code",
   "execution_count": null,
   "id": "033bc947",
   "metadata": {},
   "outputs": [],
   "source": []
  },
  {
   "cell_type": "code",
   "execution_count": 19,
   "id": "76a98dda",
   "metadata": {},
   "outputs": [
    {
     "data": {
      "text/plain": [
       "<AxesSubplot:>"
      ]
     },
     "execution_count": 19,
     "metadata": {},
     "output_type": "execute_result"
    },
    {
     "data": {
      "image/png": "[encoded data removed]",
      "text/plain": [
       "<Figure size 432x288 with 1 Axes>"
      ]
     },
     "metadata": {
      "needs_background": "light"
     },
     "output_type": "display_data"
    }
   ],
   "source": [
    "mu=1\n",
    "x_values =np.arange(10)\n",
    "y_values=poisson.pmf(x_values,mu=mu)\n",
    "sns.barplot(x=x_values,y=y_values)"
   ]
  },
  {
   "cell_type": "code",
   "execution_count": 20,
   "id": "4848f74d",
   "metadata": {},
   "outputs": [
    {
     "data": {
      "text/plain": [
       "<AxesSubplot:>"
      ]
     },
     "execution_count": 20,
     "metadata": {},
     "output_type": "execute_result"
    },
    {
     "data": {
      "image/png": "[encoded data removed]",
      "text/plain": [
       "<Figure size 432x288 with 1 Axes>"
      ]
     },
     "metadata": {
      "needs_background": "light"
     },
     "output_type": "display_data"
    }
   ],
   "source": [
    "mu=2\n",
    "x_values =np.arange(10)\n",
    "y_values=poisson.pmf(x_values,mu=mu)\n",
    "sns.barplot(x=x_values,y=y_values)"
   ]
  },
  {
   "cell_type": "code",
   "execution_count": 21,
   "id": "405efd25",
   "metadata": {},
   "outputs": [
    {
     "data": {
      "text/plain": [
       "<AxesSubplot:>"
      ]
     },
     "execution_count": 21,
     "metadata": {},
     "output_type": "execute_result"
    },
    {
     "data": {
      "image/png": "[encoded data removed]",
      "text/plain": [
       "<Figure size 432x288 with 1 Axes>"
      ]
     },
     "metadata": {
      "needs_background": "light"
     },
     "output_type": "display_data"
    }
   ],
   "source": [
    "mu=3\n",
    "x_values =np.arange(10)\n",
    "y_values=poisson.pmf(x_values,mu=mu)\n",
    "sns.barplot(x=x_values,y=y_values)"
   ]
  },
  {
   "cell_type": "code",
   "execution_count": 22,
   "id": "58e81b35",
   "metadata": {},
   "outputs": [
    {
     "data": {
      "text/plain": [
       "<AxesSubplot:>"
      ]
     },
     "execution_count": 22,
     "metadata": {},
     "output_type": "execute_result"
    },
    {
     "data": {
      "image/png": "[encoded data removed]",
      "text/plain": [
       "<Figure size 432x288 with 1 Axes>"
      ]
     },
     "metadata": {
      "needs_background": "light"
     },
     "output_type": "display_data"
    }
   ],
   "source": [
    "mu=4\n",
    "x_values =np.arange(10)\n",
    "y_values=poisson.pmf(x_values,mu=mu)\n",
    "sns.barplot(x=x_values,y=y_values)"
   ]
  },
  {
   "cell_type": "code",
   "execution_count": 23,
   "id": "b36c45be",
   "metadata": {},
   "outputs": [
    {
     "data": {
      "text/plain": [
       "<AxesSubplot:>"
      ]
     },
     "execution_count": 23,
     "metadata": {},
     "output_type": "execute_result"
    },
    {
     "data": {
      "image/png": "[encoded data removed]",
      "text/plain": [
       "<Figure size 432x288 with 1 Axes>"
      ]
     },
     "metadata": {
      "needs_background": "light"
     },
     "output_type": "display_data"
    }
   ],
   "source": [
    "mu=5\n",
    "x_values =np.arange(10)\n",
    "y_values=poisson.pmf(x_values,mu=mu)\n",
    "sns.barplot(x=x_values,y=y_values)"
   ]
  },
  {
   "cell_type": "code",
   "execution_count": 24,
   "id": "856204b6",
   "metadata": {},
   "outputs": [
    {
     "data": {
      "text/plain": [
       "<AxesSubplot:>"
      ]
     },
     "execution_count": 24,
     "metadata": {},
     "output_type": "execute_result"
    },
    {
     "data": {
      "image/png": "[encoded data removed]",
      "text/plain": [
       "<Figure size 432x288 with 1 Axes>"
      ]
     },
     "metadata": {
      "needs_background": "light"
     },
     "output_type": "display_data"
    }
   ],
   "source": [
    "mu=6\n",
    "x_values =np.arange(10)\n",
    "y_values=poisson.pmf(x_values,mu=mu)\n",
    "sns.barplot(x=x_values,y=y_values)"
   ]
  },
  {
   "cell_type": "code",
   "execution_count": 25,
   "id": "bcf34d72",
   "metadata": {},
   "outputs": [
    {
     "data": {
      "text/plain": [
       "<AxesSubplot:>"
      ]
     },
     "execution_count": 25,
     "metadata": {},
     "output_type": "execute_result"
    },
    {
     "data": {
      "image/png": "[encoded data removed]",
      "text/plain": [
       "<Figure size 432x288 with 1 Axes>"
      ]
     },
     "metadata": {
      "needs_background": "light"
     },
     "output_type": "display_data"
    }
   ],
   "source": [
    "mu=7\n",
    "x_values =np.arange(10)\n",
    "y_values=poisson.pmf(x_values,mu=mu)\n",
    "sns.barplot(x=x_values,y=y_values)"
   ]
  },
  {
   "cell_type": "code",
   "execution_count": 26,
   "id": "defc0a45",
   "metadata": {},
   "outputs": [
    {
     "data": {
      "text/plain": [
       "<AxesSubplot:>"
      ]
     },
     "execution_count": 26,
     "metadata": {},
     "output_type": "execute_result"
    },
    {
     "data": {
      "image/png": "[encoded data removed]",
      "text/plain": [
       "<Figure size 432x288 with 1 Axes>"
      ]
     },
     "metadata": {
      "needs_background": "light"
     },
     "output_type": "display_data"
    }
   ],
   "source": [
    "mu=8\n",
    "x_values =np.arange(10)\n",
    "y_values=poisson.pmf(x_values,mu=mu)\n",
    "sns.barplot(x=x_values,y=y_values)"
   ]
  },
  {
   "cell_type": "code",
   "execution_count": 27,
   "id": "c900d167",
   "metadata": {},
   "outputs": [
    {
     "data": {
      "text/plain": [
       "<AxesSubplot:>"
      ]
     },
     "execution_count": 27,
     "metadata": {},
     "output_type": "execute_result"
    },
    {
     "data": {
      "image/png": "[encoded data removed]",
      "text/plain": [
       "<Figure size 432x288 with 1 Axes>"
      ]
     },
     "metadata": {
      "needs_background": "light"
     },
     "output_type": "display_data"
    }
   ],
   "source": [
    "mu=9\n",
    "x_values =np.arange(10)\n",
    "y_values=poisson.pmf(x_values,mu=mu)\n",
    "sns.barplot(x=x_values,y=y_values)"
   ]
  },
  {
   "cell_type": "code",
   "execution_count": 28,
   "id": "8e1e3750",
   "metadata": {},
   "outputs": [
    {
     "data": {
      "text/plain": [
       "<AxesSubplot:>"
      ]
     },
     "execution_count": 28,
     "metadata": {},
     "output_type": "execute_result"
    },
    {
     "data": {
      "image/png": "[encoded data removed]",
      "text/plain": [
       "<Figure size 432x288 with 1 Axes>"
      ]
     },
     "metadata": {
      "needs_background": "light"
     },
     "output_type": "display_data"
    }
   ],
   "source": [
    "mu=10\n",
    "x_values =np.arange(10)\n",
    "y_values=poisson.pmf(x_values,mu=mu)\n",
    "sns.barplot(x=x_values,y=y_values)"
   ]
  },
  {
   "cell_type": "code",
   "execution_count": 29,
   "id": "0c54e6fb",
   "metadata": {},
   "outputs": [
    {
     "data": {
      "text/plain": [
       "0.2706705664732254"
      ]
     },
     "execution_count": 29,
     "metadata": {},
     "output_type": "execute_result"
    }
   ],
   "source": [
    "poisson.pmf(k=1,mu=2)"
   ]
  },
  {
   "cell_type": "code",
   "execution_count": 30,
   "id": "f457872d",
   "metadata": {},
   "outputs": [
    {
     "data": {
      "text/plain": [
       "0.36787944117144233"
      ]
     },
     "execution_count": 30,
     "metadata": {},
     "output_type": "execute_result"
    }
   ],
   "source": [
    "poisson.pmf(k=0,mu=1)"
   ]
  },
  {
   "cell_type": "code",
   "execution_count": 31,
   "id": "977826c4",
   "metadata": {},
   "outputs": [
    {
     "data": {
      "text/plain": [
       "0.10413714098399081"
      ]
     },
     "execution_count": 31,
     "metadata": {},
     "output_type": "execute_result"
    }
   ],
   "source": [
    "poisson.pmf(k=3,mu=4/3)"
   ]
  },
  {
   "cell_type": "code",
   "execution_count": 32,
   "id": "0ac93f96",
   "metadata": {},
   "outputs": [
    {
     "data": {
      "text/plain": [
       "0.10370316509877235"
      ]
     },
     "execution_count": 32,
     "metadata": {},
     "output_type": "execute_result"
    }
   ],
   "source": [
    "poisson.pmf(k=3,mu=1.33)"
   ]
  },
  {
   "cell_type": "code",
   "execution_count": 34,
   "id": "39cf9cfd",
   "metadata": {},
   "outputs": [
    {
     "data": {
      "text/plain": [
       "20.857142857142858"
      ]
     },
     "execution_count": 34,
     "metadata": {},
     "output_type": "execute_result"
    }
   ],
   "source": [
    "sigma_y=73/(.7*5)\n",
    "sigma_y\n"
   ]
  },
  {
   "cell_type": "code",
   "execution_count": 35,
   "id": "ae3a180e",
   "metadata": {},
   "outputs": [
    {
     "data": {
      "text/plain": [
       "435.0204081632653"
      ]
     },
     "execution_count": 35,
     "metadata": {},
     "output_type": "execute_result"
    }
   ],
   "source": [
    "sigma_y**2"
   ]
  },
  {
   "cell_type": "code",
   "execution_count": null,
   "id": "5e89d737",
   "metadata": {},
   "outputs": [],
   "source": []
  },
  {
   "cell_type": "code",
   "execution_count": null,
   "id": "ff17eb4f",
   "metadata": {},
   "outputs": [],
   "source": []
  },
  {
   "cell_type": "code",
   "execution_count": null,
   "id": "251865dc",
   "metadata": {},
   "outputs": [],
   "source": []
  },
  {
   "cell_type": "code",
   "execution_count": null,
   "id": "91093929",
   "metadata": {},
   "outputs": [],
   "source": []
  },
  {
   "cell_type": "code",
   "execution_count": null,
   "id": "da8a275e",
   "metadata": {},
   "outputs": [],
   "source": []
  }
 ],
 "metadata": {
  "kernelspec": {
   "display_name": "Python 3 (ipykernel)",
   "language": "python",
   "name": "python3"
  },
  "language_info": {
   "codemirror_mode": {
    "name": "ipython",
    "version": 3
   },
   "file_extension": ".py",
   "mimetype": "text/x-python",
   "name": "python",
   "nbconvert_exporter": "python",
   "pygments_lexer": "ipython3",
   "version": "3.9.7"
  },
  "varInspector": {
   "cols": {
    "lenName": 16,
    "lenType": 16,
    "lenVar": 40
   },
   "kernels_config": {
    "python": {
     "delete_cmd_postfix": "",
     "delete_cmd_prefix": "del ",
     "library": "var_list.py",
     "varRefreshCmd": "print(var_dic_list())"
    },
    "r": {
     "delete_cmd_postfix": ") ",
     "delete_cmd_prefix": "rm(",
     "library": "var_list.r",
     "varRefreshCmd": "cat(var_dic_list()) "
    }
   },
   "types_to_exclude": [
    "module",
    "function",
    "builtin_function_or_method",
    "instance",
    "_Feature"
   ],
   "window_display": false
  }
 },
 "nbformat": 4,
 "nbformat_minor": 5
}
